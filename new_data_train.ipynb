{
  "nbformat": 4,
  "nbformat_minor": 0,
  "metadata": {
    "colab": {
      "provenance": [],
      "authorship_tag": "ABX9TyNv3lVx83RFM8yAwQXDvUmi",
      "include_colab_link": true
    },
    "kernelspec": {
      "name": "python3",
      "display_name": "Python 3"
    },
    "language_info": {
      "name": "python"
    },
    "gpuClass": "standard"
  },
  "cells": [
    {
      "cell_type": "markdown",
      "metadata": {
        "id": "view-in-github",
        "colab_type": "text"
      },
      "source": [
        "<a href=\"https://colab.research.google.com/github/kittikhun62/efficientnet_keras_transfer_learning/blob/master/new_data_train.ipynb\" target=\"_parent\"><img src=\"https://colab.research.google.com/assets/colab-badge.svg\" alt=\"Open In Colab\"/></a>"
      ]
    },
    {
      "cell_type": "markdown",
      "source": [
        "# import from drive"
      ],
      "metadata": {
        "id": "_2DRC-anSxem"
      }
    },
    {
      "cell_type": "code",
      "source": [
        "import pandas as pd\n",
        "import shutil\n",
        "from google.colab import drive\n",
        "drive.mount('/content/drive')"
      ],
      "metadata": {
        "id": "BVIqfqC1DtDt"
      },
      "execution_count": null,
      "outputs": []
    },
    {
      "cell_type": "code",
      "source": [
        "df = pd.read_csv (r'/content/drive/My Drive/data - new data.csv')\n",
        "df"
      ],
      "metadata": {
        "id": "gABRUdVwDtBk"
      },
      "execution_count": null,
      "outputs": []
    },
    {
      "cell_type": "markdown",
      "source": [
        "## hist check class"
      ],
      "metadata": {
        "id": "WMazXBQcTMl9"
      }
    },
    {
      "cell_type": "code",
      "source": [
        "import matplotlib.pyplot as plt"
      ],
      "metadata": {
        "id": "W34NcexJDs_Z"
      },
      "execution_count": null,
      "outputs": []
    },
    {
      "cell_type": "code",
      "source": [
        "df.hist();"
      ],
      "metadata": {
        "id": "Fm07UpEbDs5X"
      },
      "execution_count": null,
      "outputs": []
    },
    {
      "cell_type": "code",
      "source": [
        "a = df['BET']\n",
        "\n",
        "fig, ax = plt.subplots(figsize =(10, 5))\n",
        "ax.hist(a, bins = 200)\n",
        "plt.show()"
      ],
      "metadata": {
        "id": "bxfNFKW2TXAY"
      },
      "execution_count": null,
      "outputs": []
    },
    {
      "cell_type": "code",
      "source": [
        "classes = ['0-500','501-1000','1001-3200']\n",
        "len(classes)"
      ],
      "metadata": {
        "id": "TBsLszHgTW-D"
      },
      "execution_count": null,
      "outputs": []
    },
    {
      "cell_type": "markdown",
      "source": [
        "## Clone efficientnet repo"
      ],
      "metadata": {
        "id": "DSSZIFGhUyQO"
      }
    },
    {
      "cell_type": "code",
      "source": [
        "#ดึงข้อมูลใน Github มาใช้\n",
        "import os\n",
        "%cd /content\n",
        "if not os.path.isdir(\"efficientnet_keras_transfer_learning\"):\n",
        " !git clone https://github.com/Wanita-8943/efficientnet_keras_transfer_learning\n",
        "%cd efficientnet_keras_transfer_learning/"
      ],
      "metadata": {
        "id": "nFvKcuBDTj1N"
      },
      "execution_count": null,
      "outputs": []
    },
    {
      "cell_type": "markdown",
      "source": [
        "# การเเบ่งข้อมูล train/validation/test sets"
      ],
      "metadata": {
        "id": "JDJCDzEDWnVW"
      }
    },
    {
      "cell_type": "code",
      "source": [
        "base_dir = '/content/drive/My Drive/new project'\n",
        "os.makedirs(base_dir, exist_ok=True)\n",
        "\n",
        "# Directories for our training,\n",
        "# validation and test splits\n",
        "train_dir = os.path.join(base_dir, 'train')\n",
        "os.makedirs(train_dir, exist_ok=True)\n",
        "validation_dir = os.path.join(base_dir, 'validation')\n",
        "os.makedirs(validation_dir, exist_ok=True)\n",
        "test_dir = os.path.join(base_dir, 'test')\n",
        "os.makedirs(test_dir, exist_ok=True)"
      ],
      "metadata": {
        "id": "R7L0rJNRU2MY"
      },
      "execution_count": null,
      "outputs": []
    },
    {
      "cell_type": "code",
      "source": [
        "train_1_dir = os.path.join(train_dir, '0-500')\n",
        "os.makedirs(train_1_dir, exist_ok=True)\n",
        "\n",
        "train_2_dir = os.path.join(train_dir, '501-1000')\n",
        "os.makedirs(train_2_dir, exist_ok=True)\n",
        "\n",
        "train_3_dir = os.path.join(train_dir, '1001-3200')\n",
        "os.makedirs(train_3_dir, exist_ok=True)\n",
        "\n",
        "\n",
        "\n",
        "validation_1_dir = os.path.join(validation_dir, '0-500')\n",
        "os.makedirs(validation_1_dir, exist_ok=True)\n",
        "\n",
        "validation_2_dir = os.path.join(validation_dir, '501-1000')\n",
        "os.makedirs(validation_2_dir, exist_ok=True)\n",
        "\n",
        "validation_3_dir = os.path.join(validation_dir, '1001-3200')\n",
        "os.makedirs(validation_3_dir, exist_ok=True)\n",
        "\n",
        "\n",
        "\n",
        "test_1_dir = os.path.join(test_dir, '0-500')\n",
        "os.makedirs(test_1_dir, exist_ok=True)\n",
        "\n",
        "test_2_dir = os.path.join(test_dir, '501-1000')\n",
        "os.makedirs(test_2_dir, exist_ok=True)\n",
        "\n",
        "test_3_dir = os.path.join(test_dir, '1001-3200')\n",
        "os.makedirs(test_3_dir, exist_ok=True)\n",
        "     "
      ],
      "metadata": {
        "id": "jtyFMXrWU2KD"
      },
      "execution_count": null,
      "outputs": []
    },
    {
      "cell_type": "code",
      "source": [
        "val = df[df['No'].between(682,764)]\n",
        "train = df[df['No'].between(1,681)]\n",
        "test = df[df['No'].between(756,845)] \n",
        "\n",
        "#Path Train\n",
        "T1_train = train[train['Class']=='0-500' ]\n",
        "T1_path_train = T1_train['path_Picture'].tolist() \n",
        "T2_train = train[train['Class']=='501-1000' ]\n",
        "T2_path_train = T2_train['path_Picture'].tolist() \n",
        "T3_train = train[train['Class']=='1001-3200' ]\n",
        "T3_path_train = T3_train['path_Picture'].tolist()\n",
        "\n",
        "#Path Validation\n",
        "T1_val = val[val['Class']=='0-500' ]\n",
        "T1_path_val = T1_val['path_Picture'].tolist() \n",
        "T2_val = val[val['Class']=='501-1000' ]\n",
        "T2_path_val = T2_val['path_Picture'].tolist() \n",
        "T3_val = val[val['Class']=='1001-3200']\n",
        "T3_path_val = T3_val['path_Picture'].tolist()\n",
        "\n",
        "\n",
        "#Path Test\n",
        "T1_test = test[test['Class']=='0-500' ]\n",
        "T1_path_test = T1_test['path_Picture'].tolist() \n",
        "T2_test = test[test['Class']=='501-1000' ]\n",
        "T2_path_test = T2_test['path_Picture'].tolist() \n",
        "T3_test = test[test['Class']=='1001-3200']\n",
        "T3_path_test = T3_test['path_Picture'].tolist()"
      ],
      "metadata": {
        "id": "mlmd_kyhW2LZ"
      },
      "execution_count": null,
      "outputs": []
    },
    {
      "cell_type": "markdown",
      "source": [
        "### Train"
      ],
      "metadata": {
        "id": "ZkfPduNQW43l"
      }
    },
    {
      "cell_type": "code",
      "source": [
        "fnames = T1_path_train\n",
        "for fname in fnames:\n",
        "    dst = os.path.join(train_1_dir, os.path.basename(fname))\n",
        "    shutil.copyfile(fname, dst)\n",
        "\n",
        "fnames = T2_path_train\n",
        "for fname in fnames:\n",
        "    dst = os.path.join(train_2_dir, os.path.basename(fname))\n",
        "    shutil.copyfile(fname, dst)\n",
        "    \n",
        "fnames = T3_path_train \n",
        "for fname in fnames:\n",
        "    dst = os.path.join(train_3_dir, os.path.basename(fname))\n",
        "    shutil.copyfile(fname, dst)"
      ],
      "metadata": {
        "id": "9jMgUluKU2Hp"
      },
      "execution_count": null,
      "outputs": []
    },
    {
      "cell_type": "markdown",
      "source": [
        "### Test"
      ],
      "metadata": {
        "id": "Mj3sViKJaLSD"
      }
    },
    {
      "cell_type": "code",
      "source": [
        "fnames = T1_path_test\n",
        "for fname in fnames:\n",
        "    dst = os.path.join(validation_1_dir, os.path.basename(fname))\n",
        "    shutil.copyfile(fname, dst)\n",
        "\n",
        "fnames = T2_path_test\n",
        "for fname in fnames:\n",
        "    dst = os.path.join(validation_2_dir, os.path.basename(fname))\n",
        "    shutil.copyfile(fname, dst)\n",
        "    \n",
        "fnames = T3_path_test \n",
        "for fname in fnames:\n",
        "    dst = os.path.join(validation_3_dir, os.path.basename(fname))\n",
        "    shutil.copyfile(fname, dst)"
      ],
      "metadata": {
        "id": "WvK0Y2FIYat1"
      },
      "execution_count": null,
      "outputs": []
    },
    {
      "cell_type": "markdown",
      "source": [
        "###Validation"
      ],
      "metadata": {
        "id": "rc4HwwbPaD6n"
      }
    },
    {
      "cell_type": "code",
      "source": [
        "fnames = T1_path_val\n",
        "for fname in fnames:\n",
        "    dst = os.path.join(test_1_dir, os.path.basename(fname))\n",
        "    shutil.copyfile(fname, dst)\n",
        "\n",
        "fnames = T2_path_val\n",
        "for fname in fnames:\n",
        "    dst = os.path.join(test_2_dir, os.path.basename(fname))\n",
        "    shutil.copyfile(fname, dst)\n",
        "    \n",
        "fnames = T3_path_val \n",
        "for fname in fnames:\n",
        "    dst = os.path.join(test_3_dir, os.path.basename(fname))\n",
        "    shutil.copyfile(fname, dst)"
      ],
      "metadata": {
        "id": "XxtmCbyUYarp"
      },
      "execution_count": null,
      "outputs": []
    },
    {
      "cell_type": "code",
      "source": [
        "print('total training 1 images:', len(os.listdir(train_1_dir))) \n",
        "print('total training 2 images:', len(os.listdir(train_2_dir)))\n",
        "print('total training 3 images:', len(os.listdir(train_3_dir)),'\\n')\n",
        "\n",
        "\n",
        "print('total validation 1 images:', len(os.listdir(validation_1_dir)))\n",
        "print('total validation 2 images:', len(os.listdir(validation_2_dir)))\n",
        "print('total validation 3 images:', len(os.listdir(validation_3_dir)),'\\n')\n",
        "\n",
        "\n",
        "print('total test 1 images:', len(os.listdir(test_1_dir)))\n",
        "print('total test 2 images:', len(os.listdir(test_2_dir)))\n",
        "print('total test 3 images:', len(os.listdir(test_3_dir)),'\\n')"
      ],
      "metadata": {
        "id": "Tvk53f-WYapl"
      },
      "execution_count": null,
      "outputs": []
    },
    {
      "cell_type": "markdown",
      "source": [
        "# Imports library"
      ],
      "metadata": {
        "id": "VkYa-4LeTbir"
      }
    },
    {
      "cell_type": "code",
      "source": [
        "from tensorflow.keras import models\n",
        "from tensorflow.keras import layers\n",
        "from tensorflow.keras import optimizers\n",
        "import os\n",
        "import glob\n",
        "import shutil\n",
        "import sys\n",
        "import numpy as np\n",
        "from skimage.io import imread\n",
        "import matplotlib.pyplot as plt\n",
        "from IPython.display import Image\n",
        "%matplotlib inline"
      ],
      "metadata": {
        "id": "myAsBcVhTW7j"
      },
      "execution_count": null,
      "outputs": []
    },
    {
      "cell_type": "markdown",
      "source": [
        "## hyper parameter\n"
      ],
      "metadata": {
        "id": "T529UM_tVV-F"
      }
    },
    {
      "cell_type": "code",
      "source": [
        "batch_size = 20\n",
        "\n",
        "width = 150\n",
        "height = 150\n",
        "\n",
        "epochs = 1000 #จำนวนรอบในการ Train\n",
        "\n",
        "NUM_TRAIN = 300  # จำนวนภาพ Train\n",
        "NUM_TEST = 20 #จำนวนภาพ Test\n",
        "\n",
        "dropout_rate = 0.2\n",
        "input_shape = (height, width, 3) #ขนาด image enter"
      ],
      "metadata": {
        "id": "zXpmkJ2GVZ1l"
      },
      "execution_count": null,
      "outputs": []
    },
    {
      "cell_type": "markdown",
      "source": [
        "## Import efficientnet and load the conv base model"
      ],
      "metadata": {
        "id": "j3EgSOiSZHaq"
      }
    },
    {
      "cell_type": "code",
      "source": [
        "# Options: EfficientNetB0, EfficientNetB1, EfficientNetB2, EfficientNetB3\n",
        "# Higher the number, the more complex the model is.\n",
        "from efficientnet import EfficientNetB0 as Net\n",
        "from efficientnet import center_crop_and_resize, preprocess_input"
      ],
      "metadata": {
        "id": "iI3DQ18HU2TF"
      },
      "execution_count": null,
      "outputs": []
    },
    {
      "cell_type": "code",
      "source": [
        "# loading pretrained conv base model\n",
        "# โหลดโมเดล มาโดยตัด output ของโมเดลออก เเต่ยังใช้ input อันเดิม\n",
        "# เเละโหลด weight ของโมเดล มาด้วยที่ชื่อว่า imagenet\n",
        "#EfficientNet สร้างขึ้นสำหรับการจำแนกประเภท ImageNet ประกอบด้วยป้ายกำกับคลาส 1,000 รายการ เรามีเพียง 2 เลเยอร์เท่านั้น ซึ่งหมายความว่าเลเยอร์สองสามเลเยอร์สุดท้ายสำหรับการจำแนกไม่มีประโยชน์สำหรับเรา สามารถยกเว้นได้ขณะโหลดโมเดลโดยระบุอาร์กิวเมนต์ include_top เป็น False และนำไปใช้กับโมเดล ImageNet อื่นๆ ที่มีอยู่ในแอปพลิเคชัน Keras เช่นกัน\n",
        "\n",
        "conv_base = Net(weights='imagenet', include_top=False, input_shape=input_shape)"
      ],
      "metadata": {
        "id": "UmBDAgF_VAjq"
      },
      "execution_count": null,
      "outputs": []
    },
    {
      "cell_type": "code",
      "source": [
        "conv_base.summary() #ดู Summary"
      ],
      "metadata": {
        "id": "rRXoFFzfU2Oi"
      },
      "execution_count": null,
      "outputs": []
    },
    {
      "cell_type": "markdown",
      "source": [
        "# Show architecture model"
      ],
      "metadata": {
        "id": "W1JJhCEWZjiY"
      }
    },
    {
      "cell_type": "code",
      "source": [
        "#ดัดแปลง GlobalMaxPooling2D เพื่อแปลง 4D the (batch_size, rows, cols,channels) tensor เป็น 2D tensor with shape (batch_size,channels)\n",
        "#GlobalMaxPooling2D ส่งผลให้มีจำนวนฟีเจอร์น้อยกว่ามากเมื่อเทียบกับเลเยอร์ Flatten ซึ่งช่วยลดจำนวนพารามิเตอร์ได้อย่างมีประสิทธิภาพ\n",
        "\n",
        "model = models.Sequential()\n",
        "model.add(conv_base)\n",
        "model.add(layers.GlobalMaxPooling2D(name=\"gap\"))\n",
        "# model.add(layers.Flatten(name=\"flatten\"))\n",
        "if dropout_rate > 0:\n",
        "    model.add(layers.Dropout(dropout_rate, name=\"dropout_out\"))\n",
        "# model.add(layers.Dense(256, activation='relu', name=\"fc1\"))\n",
        "model.add(layers.Dense(3, activation='softmax', name=\"fc_out\"))"
      ],
      "metadata": {
        "id": "-9EQ5AdjZT9s"
      },
      "execution_count": null,
      "outputs": []
    },
    {
      "cell_type": "code",
      "source": [
        "model.summary()"
      ],
      "metadata": {
        "id": "wmBUcgsMZVkW"
      },
      "execution_count": null,
      "outputs": []
    },
    {
      "cell_type": "code",
      "source": [
        "print('This is the number of trainable layers '\n",
        "      'before freezing the conv base:', len(model.trainable_weights))\n",
        "\n",
        "conv_base.trainable = False\n",
        "\n",
        "print('This is the number of trainable layers '\n",
        "      'after freezing the conv base:', len(model.trainable_weights))"
      ],
      "metadata": {
        "id": "xRyPafCIZXzU"
      },
      "execution_count": null,
      "outputs": []
    },
    {
      "cell_type": "markdown",
      "source": [
        "## Setting data augmentation"
      ],
      "metadata": {
        "id": "X9Xfp10TY9xE"
      }
    },
    {
      "cell_type": "code",
      "source": [
        "# Train ด้วย ImageDataGenerator ของ Keras ซึ่งจะเพิ่มข้อมูลเสริมระหว่างการฝึกเพื่อลดโอกาสเกิด overfitting\n",
        "#overfitting เกิดจากข้อมูลที่ซับซ้อนกันเกินไป\n",
        "#Image Augmentation \n",
        "from tensorflow.keras.preprocessing.image import ImageDataGenerator\n",
        "\n",
        "train_datagen = ImageDataGenerator(\n",
        "      rescale=1./255, # image input 0-255 --> 0-1 เปลี่ยนค่าสี\n",
        "      rotation_range=40,# หมุนภาพในองศา\n",
        "      width_shift_range=0.2, #เปลี่ยนความกว้าง\n",
        "      height_shift_range=0.2, #ปลี่ยนความสูง\n",
        "      shear_range=0.2, #ทำให้ภาพเบี้ยว\n",
        "      zoom_range=0.2, # Randomly zoom image\n",
        "      horizontal_flip=True, \n",
        "      #โดย Default เมื่อมีการเลื่อนภาพ บิดภาพ หมุนภาพ จะเกิดพื้นที่ว่างที่มุม \n",
        "      #ซึ่งจะมีการเติมภาพให้เต็มโดยใช้เทคนิคแบบ Nearest neighbor ซึ่งเป็นการดึงสีบริเวณใหล้าเคียงมาระบายให้เต็ม แต่เราก็ยังสามารถกำหนดวิธีการ Fill ภาพด้วยเทคนิคอื่นได้จาก Parameter fill_mode\n",
        "      fill_mode='nearest')\n",
        "# Note that the validation data should not be augmented!\n",
        "test_datagen = ImageDataGenerator(rescale=1./255)\n",
        "\n",
        "train_generator = train_datagen.flow_from_directory(\n",
        "        # This is the target directory #ไดเรกเป้าหมาย\n",
        "        train_dir,\n",
        "        # รูปภาพทั้งหมดจะถูกปรับขนาดตามความสูงและความกว้างของเป้าหมาย\n",
        "        target_size=(height, width),\n",
        "        batch_size=batch_size,\n",
        "        # Since we use categorical_crossentropy loss, we need categorical labels\n",
        "        #เนื่องจากเราใช้ categorical_crossentropy loss เราจึงต้องมีป้ายกำกับตามหมวดหมู่\n",
        "        class_mode='categorical')\n",
        "\n",
        "validation_generator = test_datagen.flow_from_directory( #การดึงภาพจาก Directory มาเข้าโมเดล \n",
        "        validation_dir,\n",
        "        target_size=(height, width),\n",
        "        batch_size=batch_size,\n",
        "        class_mode='categorical')"
      ],
      "metadata": {
        "id": "GC-vPos9Y9HD"
      },
      "execution_count": null,
      "outputs": []
    },
    {
      "cell_type": "markdown",
      "source": [
        "# Training"
      ],
      "metadata": {
        "id": "8S60IpOWcB7u"
      }
    },
    {
      "cell_type": "code",
      "source": [
        "model.compile(loss='categorical_crossentropy',\n",
        "              optimizer=optimizers.RMSprop(lr=2e-5),\n",
        "              metrics=['acc'])\n",
        "history = model.fit_generator(\n",
        "      train_generator,\n",
        "      steps_per_epoch= NUM_TRAIN //batch_size,\n",
        "      epochs=epochs,\n",
        "      validation_data=validation_generator,\n",
        "      validation_steps= NUM_TEST //batch_size,\n",
        "      verbose=1,\n",
        "      use_multiprocessing=True,\n",
        "      workers=4)"
      ],
      "metadata": {
        "id": "Od8zqlOwb9Iw",
        "colab": {
          "base_uri": "https://localhost:8080/"
        },
        "outputId": "cf5f608b-1918-4f13-fb98-03e897fc5bb7"
      },
      "execution_count": null,
      "outputs": [
        {
          "metadata": {
            "tags": null
          },
          "name": "stderr",
          "output_type": "stream",
          "text": [
            "/usr/local/lib/python3.8/dist-packages/keras/optimizers/optimizer_v2/rmsprop.py:135: UserWarning: The `lr` argument is deprecated, use `learning_rate` instead.\n",
            "  super(RMSprop, self).__init__(name, **kwargs)\n",
            "<ipython-input-166-bbda3a575f01>:4: UserWarning: `Model.fit_generator` is deprecated and will be removed in a future version. Please use `Model.fit`, which supports generators.\n",
            "  history = model.fit_generator(\n"
          ]
        },
        {
          "output_type": "stream",
          "name": "stdout",
          "text": [
            "Epoch 1/1000\n",
            "15/15 [==============================] - 23s 951ms/step - loss: 2.2794 - acc: 0.2533 - val_loss: 1.6266 - val_acc: 0.3000\n",
            "Epoch 2/1000\n",
            "15/15 [==============================] - 15s 854ms/step - loss: 2.1053 - acc: 0.2667 - val_loss: 1.7386 - val_acc: 0.2000\n",
            "Epoch 3/1000\n",
            "15/15 [==============================] - 14s 783ms/step - loss: 1.8641 - acc: 0.3100 - val_loss: 1.7743 - val_acc: 0.2500\n",
            "Epoch 4/1000\n",
            "15/15 [==============================] - 14s 782ms/step - loss: 1.8358 - acc: 0.3133 - val_loss: 1.6006 - val_acc: 0.1500\n",
            "Epoch 5/1000\n",
            "15/15 [==============================] - 13s 716ms/step - loss: 1.7286 - acc: 0.3274 - val_loss: 1.5269 - val_acc: 0.2500\n",
            "Epoch 6/1000\n",
            "15/15 [==============================] - 13s 728ms/step - loss: 1.6724 - acc: 0.3345 - val_loss: 1.8201 - val_acc: 0.1500\n",
            "Epoch 7/1000\n",
            "15/15 [==============================] - 12s 710ms/step - loss: 1.6122 - acc: 0.3630 - val_loss: 1.6571 - val_acc: 0.1500\n",
            "Epoch 8/1000\n",
            "15/15 [==============================] - 13s 747ms/step - loss: 1.6473 - acc: 0.3267 - val_loss: 1.6125 - val_acc: 0.1500\n",
            "Epoch 9/1000\n",
            "15/15 [==============================] - 13s 756ms/step - loss: 1.7122 - acc: 0.3100 - val_loss: 2.1444 - val_acc: 0.0500\n",
            "Epoch 10/1000\n",
            "15/15 [==============================] - 13s 722ms/step - loss: 1.5448 - acc: 0.3701 - val_loss: 1.3371 - val_acc: 0.3500\n",
            "Epoch 11/1000\n",
            "15/15 [==============================] - 12s 714ms/step - loss: 1.5010 - acc: 0.3701 - val_loss: 1.7241 - val_acc: 0.2000\n",
            "Epoch 12/1000\n",
            "15/15 [==============================] - 13s 716ms/step - loss: 1.5375 - acc: 0.3737 - val_loss: 1.6107 - val_acc: 0.2000\n",
            "Epoch 13/1000\n",
            "15/15 [==============================] - 13s 744ms/step - loss: 1.5998 - acc: 0.3600 - val_loss: 1.9110 - val_acc: 0.0500\n",
            "Epoch 14/1000\n",
            "15/15 [==============================] - 13s 722ms/step - loss: 1.5758 - acc: 0.3594 - val_loss: 1.9124 - val_acc: 0.1500\n",
            "Epoch 15/1000\n",
            "15/15 [==============================] - 13s 762ms/step - loss: 1.4216 - acc: 0.3900 - val_loss: 1.9722 - val_acc: 0.1500\n",
            "Epoch 16/1000\n",
            "15/15 [==============================] - 13s 751ms/step - loss: 1.6181 - acc: 0.3533 - val_loss: 1.8014 - val_acc: 0.2000\n",
            "Epoch 17/1000\n",
            "15/15 [==============================] - 13s 749ms/step - loss: 1.5234 - acc: 0.3733 - val_loss: 1.8991 - val_acc: 0.2000\n",
            "Epoch 18/1000\n",
            "15/15 [==============================] - 13s 748ms/step - loss: 1.5080 - acc: 0.3900 - val_loss: 1.4334 - val_acc: 0.1500\n",
            "Epoch 19/1000\n",
            "15/15 [==============================] - 12s 712ms/step - loss: 1.4992 - acc: 0.3915 - val_loss: 1.5229 - val_acc: 0.2000\n",
            "Epoch 20/1000\n",
            "15/15 [==============================] - 13s 724ms/step - loss: 1.5108 - acc: 0.3879 - val_loss: 1.6084 - val_acc: 0.3000\n",
            "Epoch 21/1000\n",
            "15/15 [==============================] - 13s 714ms/step - loss: 1.6413 - acc: 0.4021 - val_loss: 1.8341 - val_acc: 0.1500\n",
            "Epoch 22/1000\n",
            "15/15 [==============================] - 13s 716ms/step - loss: 1.5096 - acc: 0.4021 - val_loss: 2.0545 - val_acc: 0.1500\n",
            "Epoch 23/1000\n",
            "15/15 [==============================] - 13s 763ms/step - loss: 1.5136 - acc: 0.3767 - val_loss: 2.1743 - val_acc: 0.0500\n",
            "Epoch 24/1000\n",
            "15/15 [==============================] - 13s 749ms/step - loss: 1.4711 - acc: 0.3833 - val_loss: 2.1943 - val_acc: 0.0500\n",
            "Epoch 25/1000\n",
            "15/15 [==============================] - 13s 719ms/step - loss: 1.6629 - acc: 0.3986 - val_loss: 1.9397 - val_acc: 0.1500\n",
            "Epoch 26/1000\n",
            "15/15 [==============================] - 12s 706ms/step - loss: 1.5631 - acc: 0.3523 - val_loss: 1.6913 - val_acc: 0.2000\n",
            "Epoch 27/1000\n",
            "15/15 [==============================] - 13s 748ms/step - loss: 1.5183 - acc: 0.3733 - val_loss: 1.8337 - val_acc: 0.2500\n",
            "Epoch 28/1000\n",
            "15/15 [==============================] - 13s 741ms/step - loss: 1.5496 - acc: 0.4333 - val_loss: 1.9504 - val_acc: 0.2500\n",
            "Epoch 29/1000\n",
            "15/15 [==============================] - 13s 756ms/step - loss: 1.4869 - acc: 0.4200 - val_loss: 2.0147 - val_acc: 0.2500\n",
            "Epoch 30/1000\n",
            "15/15 [==============================] - 13s 710ms/step - loss: 1.4960 - acc: 0.3808 - val_loss: 1.4528 - val_acc: 0.2000\n",
            "Epoch 31/1000\n",
            "15/15 [==============================] - 13s 724ms/step - loss: 1.5626 - acc: 0.3986 - val_loss: 1.5364 - val_acc: 0.1000\n",
            "Epoch 32/1000\n",
            "15/15 [==============================] - 13s 717ms/step - loss: 1.5634 - acc: 0.3523 - val_loss: 1.7133 - val_acc: 0.2500\n",
            "Epoch 33/1000\n",
            "15/15 [==============================] - 13s 721ms/step - loss: 1.5286 - acc: 0.3772 - val_loss: 1.4576 - val_acc: 0.2500\n",
            "Epoch 34/1000\n",
            "15/15 [==============================] - 13s 769ms/step - loss: 1.4457 - acc: 0.4267 - val_loss: 1.8874 - val_acc: 0.0500\n",
            "Epoch 35/1000\n",
            "15/15 [==============================] - 13s 756ms/step - loss: 1.6678 - acc: 0.3567 - val_loss: 1.5880 - val_acc: 0.1500\n",
            "Epoch 36/1000\n",
            "15/15 [==============================] - 13s 763ms/step - loss: 1.5712 - acc: 0.3433 - val_loss: 1.5484 - val_acc: 0.3000\n",
            "Epoch 37/1000\n",
            "15/15 [==============================] - 13s 729ms/step - loss: 1.4955 - acc: 0.3950 - val_loss: 1.5571 - val_acc: 0.3000\n",
            "Epoch 38/1000\n",
            "15/15 [==============================] - 13s 764ms/step - loss: 1.4455 - acc: 0.4033 - val_loss: 1.7171 - val_acc: 0.0500\n",
            "Epoch 39/1000\n",
            "15/15 [==============================] - 13s 735ms/step - loss: 1.3901 - acc: 0.4377 - val_loss: 1.8055 - val_acc: 0.1500\n",
            "Epoch 40/1000\n",
            "15/15 [==============================] - 13s 746ms/step - loss: 1.4633 - acc: 0.4367 - val_loss: 1.5246 - val_acc: 0.3000\n",
            "Epoch 41/1000\n",
            "15/15 [==============================] - 13s 732ms/step - loss: 1.4444 - acc: 0.4164 - val_loss: 1.5706 - val_acc: 0.3000\n",
            "Epoch 42/1000\n",
            "15/15 [==============================] - 13s 747ms/step - loss: 1.4756 - acc: 0.3915 - val_loss: 1.8075 - val_acc: 0.2000\n",
            "Epoch 43/1000\n",
            "15/15 [==============================] - 13s 891ms/step - loss: 1.4119 - acc: 0.4128 - val_loss: 1.9512 - val_acc: 0.1000\n",
            "Epoch 44/1000\n",
            "15/15 [==============================] - 13s 728ms/step - loss: 1.4897 - acc: 0.4021 - val_loss: 1.6761 - val_acc: 0.1500\n",
            "Epoch 45/1000\n",
            "15/15 [==============================] - 13s 750ms/step - loss: 1.5198 - acc: 0.3986 - val_loss: 1.4525 - val_acc: 0.3500\n",
            "Epoch 46/1000\n",
            "15/15 [==============================] - 12s 851ms/step - loss: 1.4668 - acc: 0.4199 - val_loss: 1.8321 - val_acc: 0.2000\n",
            "Epoch 47/1000\n",
            "15/15 [==============================] - 13s 755ms/step - loss: 1.4365 - acc: 0.4000 - val_loss: 1.5849 - val_acc: 0.3000\n",
            "Epoch 48/1000\n",
            "15/15 [==============================] - 13s 741ms/step - loss: 1.3895 - acc: 0.4333 - val_loss: 1.7052 - val_acc: 0.2500\n",
            "Epoch 49/1000\n",
            "15/15 [==============================] - 13s 747ms/step - loss: 1.5679 - acc: 0.3533 - val_loss: 1.4627 - val_acc: 0.3500\n",
            "Epoch 50/1000\n",
            "15/15 [==============================] - 13s 741ms/step - loss: 1.4973 - acc: 0.3900 - val_loss: 1.5240 - val_acc: 0.3500\n",
            "Epoch 51/1000\n",
            "15/15 [==============================] - 13s 734ms/step - loss: 1.3430 - acc: 0.4267 - val_loss: 2.1920 - val_acc: 0.1500\n",
            "Epoch 52/1000\n",
            "15/15 [==============================] - 13s 760ms/step - loss: 1.5253 - acc: 0.3900 - val_loss: 1.6204 - val_acc: 0.2500\n",
            "Epoch 53/1000\n",
            "15/15 [==============================] - 14s 786ms/step - loss: 1.5889 - acc: 0.4033 - val_loss: 1.8022 - val_acc: 0.2000\n",
            "Epoch 54/1000\n",
            "15/15 [==============================] - 13s 759ms/step - loss: 1.4994 - acc: 0.3967 - val_loss: 1.5156 - val_acc: 0.2500\n",
            "Epoch 55/1000\n",
            "15/15 [==============================] - 13s 745ms/step - loss: 1.5395 - acc: 0.3416 - val_loss: 1.2211 - val_acc: 0.4500\n",
            "Epoch 56/1000\n",
            "15/15 [==============================] - 13s 765ms/step - loss: 1.4808 - acc: 0.4377 - val_loss: 1.6951 - val_acc: 0.3000\n",
            "Epoch 57/1000\n",
            "15/15 [==============================] - 13s 765ms/step - loss: 1.5134 - acc: 0.3879 - val_loss: 1.7440 - val_acc: 0.2000\n",
            "Epoch 58/1000\n",
            "15/15 [==============================] - 14s 769ms/step - loss: 1.4485 - acc: 0.4306 - val_loss: 1.5988 - val_acc: 0.2000\n",
            "Epoch 59/1000\n",
            "15/15 [==============================] - 13s 765ms/step - loss: 1.3482 - acc: 0.3915 - val_loss: 1.6247 - val_acc: 0.1500\n",
            "Epoch 60/1000\n",
            "15/15 [==============================] - 14s 806ms/step - loss: 1.3970 - acc: 0.4367 - val_loss: 1.5644 - val_acc: 0.3000\n",
            "Epoch 61/1000\n",
            "15/15 [==============================] - 14s 807ms/step - loss: 1.4381 - acc: 0.4000 - val_loss: 1.4920 - val_acc: 0.1000\n",
            "Epoch 62/1000\n",
            "15/15 [==============================] - 14s 778ms/step - loss: 1.2961 - acc: 0.4235 - val_loss: 1.7488 - val_acc: 0.2000\n",
            "Epoch 63/1000\n",
            "15/15 [==============================] - 13s 757ms/step - loss: 1.3806 - acc: 0.4400 - val_loss: 1.9454 - val_acc: 0.3000\n",
            "Epoch 64/1000\n",
            "15/15 [==============================] - 13s 742ms/step - loss: 1.4709 - acc: 0.4167 - val_loss: 1.6189 - val_acc: 0.3000\n",
            "Epoch 65/1000\n",
            "15/15 [==============================] - 14s 787ms/step - loss: 1.4591 - acc: 0.3559 - val_loss: 1.8301 - val_acc: 0.3000\n",
            "Epoch 66/1000\n",
            "15/15 [==============================] - 13s 750ms/step - loss: 1.3821 - acc: 0.3967 - val_loss: 1.3358 - val_acc: 0.4000\n",
            "Epoch 67/1000\n",
            "15/15 [==============================] - 13s 730ms/step - loss: 1.3941 - acc: 0.4413 - val_loss: 1.6351 - val_acc: 0.2500\n",
            "Epoch 68/1000\n",
            "15/15 [==============================] - 13s 744ms/step - loss: 1.3895 - acc: 0.4267 - val_loss: 1.9167 - val_acc: 0.1000\n",
            "Epoch 69/1000\n",
            "15/15 [==============================] - 14s 817ms/step - loss: 1.5864 - acc: 0.3667 - val_loss: 1.7919 - val_acc: 0.2000\n",
            "Epoch 70/1000\n",
            "15/15 [==============================] - 13s 758ms/step - loss: 1.4014 - acc: 0.4433 - val_loss: 1.1109 - val_acc: 0.3500\n",
            "Epoch 71/1000\n",
            "15/15 [==============================] - 13s 734ms/step - loss: 1.4421 - acc: 0.3767 - val_loss: 1.9640 - val_acc: 0.2000\n",
            "Epoch 72/1000\n",
            "15/15 [==============================] - 13s 717ms/step - loss: 1.5672 - acc: 0.3772 - val_loss: 1.8172 - val_acc: 0.1500\n",
            "Epoch 73/1000\n",
            "15/15 [==============================] - 13s 761ms/step - loss: 1.3997 - acc: 0.3767 - val_loss: 1.5575 - val_acc: 0.2000\n",
            "Epoch 74/1000\n",
            "15/15 [==============================] - 14s 798ms/step - loss: 1.3196 - acc: 0.4533 - val_loss: 1.8558 - val_acc: 0.2000\n",
            "Epoch 75/1000\n",
            "15/15 [==============================] - 14s 776ms/step - loss: 1.3642 - acc: 0.4167 - val_loss: 1.6981 - val_acc: 0.3000\n",
            "Epoch 76/1000\n",
            "15/15 [==============================] - 13s 728ms/step - loss: 1.4630 - acc: 0.4267 - val_loss: 1.8069 - val_acc: 0.2500\n",
            "Epoch 77/1000\n",
            "15/15 [==============================] - 13s 741ms/step - loss: 1.4513 - acc: 0.4033 - val_loss: 1.8875 - val_acc: 0.2000\n",
            "Epoch 78/1000\n",
            "15/15 [==============================] - 13s 721ms/step - loss: 1.4979 - acc: 0.4199 - val_loss: 1.5734 - val_acc: 0.1000\n",
            "Epoch 79/1000\n",
            "15/15 [==============================] - 13s 751ms/step - loss: 1.3301 - acc: 0.4300 - val_loss: 1.3699 - val_acc: 0.4000\n",
            "Epoch 80/1000\n",
            "15/15 [==============================] - 13s 755ms/step - loss: 1.5181 - acc: 0.3867 - val_loss: 1.3020 - val_acc: 0.4500\n",
            "Epoch 81/1000\n",
            "15/15 [==============================] - 13s 733ms/step - loss: 1.4154 - acc: 0.4167 - val_loss: 1.5533 - val_acc: 0.2500\n",
            "Epoch 82/1000\n",
            "15/15 [==============================] - 13s 742ms/step - loss: 1.4635 - acc: 0.4164 - val_loss: 1.6562 - val_acc: 0.2000\n",
            "Epoch 83/1000\n",
            "15/15 [==============================] - 13s 751ms/step - loss: 1.3562 - acc: 0.4342 - val_loss: 1.6719 - val_acc: 0.2500\n",
            "Epoch 84/1000\n",
            "15/15 [==============================] - 13s 705ms/step - loss: 1.5073 - acc: 0.4057 - val_loss: 1.4063 - val_acc: 0.3000\n",
            "Epoch 85/1000\n",
            "15/15 [==============================] - 12s 711ms/step - loss: 1.3586 - acc: 0.4448 - val_loss: 1.6362 - val_acc: 0.2000\n",
            "Epoch 86/1000\n",
            "15/15 [==============================] - 13s 738ms/step - loss: 1.3163 - acc: 0.4342 - val_loss: 1.8033 - val_acc: 0.1000\n",
            "Epoch 87/1000\n",
            "15/15 [==============================] - 13s 701ms/step - loss: 1.3548 - acc: 0.4021 - val_loss: 1.5851 - val_acc: 0.3000\n",
            "Epoch 88/1000\n",
            "15/15 [==============================] - 13s 719ms/step - loss: 1.3919 - acc: 0.4300 - val_loss: 1.8248 - val_acc: 0.1000\n",
            "Epoch 89/1000\n",
            "15/15 [==============================] - 13s 722ms/step - loss: 1.4485 - acc: 0.4033 - val_loss: 1.3725 - val_acc: 0.3000\n",
            "Epoch 90/1000\n",
            "15/15 [==============================] - 12s 703ms/step - loss: 1.3930 - acc: 0.4093 - val_loss: 1.5894 - val_acc: 0.2000\n",
            "Epoch 91/1000\n",
            "15/15 [==============================] - 13s 722ms/step - loss: 1.4063 - acc: 0.4167 - val_loss: 1.7144 - val_acc: 0.3000\n",
            "Epoch 92/1000\n",
            "15/15 [==============================] - 13s 714ms/step - loss: 1.4852 - acc: 0.3833 - val_loss: 1.6740 - val_acc: 0.1500\n",
            "Epoch 93/1000\n",
            "15/15 [==============================] - 12s 704ms/step - loss: 1.5023 - acc: 0.3915 - val_loss: 1.5608 - val_acc: 0.2000\n",
            "Epoch 94/1000\n",
            "15/15 [==============================] - 13s 726ms/step - loss: 1.4835 - acc: 0.3733 - val_loss: 1.3597 - val_acc: 0.2500\n",
            "Epoch 95/1000\n",
            "15/15 [==============================] - 12s 701ms/step - loss: 1.2736 - acc: 0.4520 - val_loss: 1.9169 - val_acc: 0.1500\n",
            "Epoch 96/1000\n",
            "15/15 [==============================] - 13s 719ms/step - loss: 1.3930 - acc: 0.4233 - val_loss: 1.6333 - val_acc: 0.2000\n",
            "Epoch 97/1000\n",
            "15/15 [==============================] - 13s 726ms/step - loss: 1.3018 - acc: 0.4533 - val_loss: 0.9746 - val_acc: 0.5000\n",
            "Epoch 98/1000\n",
            "15/15 [==============================] - 13s 731ms/step - loss: 1.4196 - acc: 0.4267 - val_loss: 1.7502 - val_acc: 0.2500\n",
            "Epoch 99/1000\n",
            "15/15 [==============================] - 12s 841ms/step - loss: 1.4306 - acc: 0.4377 - val_loss: 1.7621 - val_acc: 0.1500\n",
            "Epoch 100/1000\n",
            "15/15 [==============================] - 13s 725ms/step - loss: 1.3760 - acc: 0.4267 - val_loss: 1.4414 - val_acc: 0.3000\n",
            "Epoch 101/1000\n",
            "15/15 [==============================] - 13s 733ms/step - loss: 1.5231 - acc: 0.3300 - val_loss: 1.4451 - val_acc: 0.3000\n",
            "Epoch 102/1000\n",
            "15/15 [==============================] - 13s 729ms/step - loss: 1.3306 - acc: 0.3933 - val_loss: 1.3707 - val_acc: 0.3000\n",
            "Epoch 103/1000\n",
            "15/15 [==============================] - 13s 720ms/step - loss: 1.4567 - acc: 0.4300 - val_loss: 1.4605 - val_acc: 0.2000\n",
            "Epoch 104/1000\n",
            "15/15 [==============================] - 13s 724ms/step - loss: 1.3626 - acc: 0.4400 - val_loss: 1.3186 - val_acc: 0.1500\n",
            "Epoch 105/1000\n",
            "15/15 [==============================] - 12s 704ms/step - loss: 1.3240 - acc: 0.4164 - val_loss: 1.6529 - val_acc: 0.3500\n",
            "Epoch 106/1000\n",
            "15/15 [==============================] - 13s 718ms/step - loss: 1.2698 - acc: 0.4933 - val_loss: 1.2395 - val_acc: 0.4000\n",
            "Epoch 107/1000\n",
            "15/15 [==============================] - 13s 724ms/step - loss: 1.3659 - acc: 0.4067 - val_loss: 1.3116 - val_acc: 0.4000\n",
            "Epoch 108/1000\n",
            "15/15 [==============================] - 12s 696ms/step - loss: 1.2514 - acc: 0.4591 - val_loss: 1.3469 - val_acc: 0.2000\n",
            "Epoch 109/1000\n",
            "15/15 [==============================] - 13s 715ms/step - loss: 1.3385 - acc: 0.3900 - val_loss: 1.7730 - val_acc: 0.2000\n",
            "Epoch 110/1000\n",
            "15/15 [==============================] - 13s 730ms/step - loss: 1.2770 - acc: 0.4633 - val_loss: 1.5550 - val_acc: 0.2000\n",
            "Epoch 111/1000\n",
            "15/15 [==============================] - 12s 707ms/step - loss: 1.2680 - acc: 0.4300 - val_loss: 1.2655 - val_acc: 0.3500\n",
            "Epoch 112/1000\n",
            "15/15 [==============================] - 13s 728ms/step - loss: 1.4242 - acc: 0.3467 - val_loss: 1.6865 - val_acc: 0.1000\n",
            "Epoch 113/1000\n",
            "15/15 [==============================] - 13s 728ms/step - loss: 1.3048 - acc: 0.4133 - val_loss: 1.5460 - val_acc: 0.1000\n",
            "Epoch 114/1000\n",
            "15/15 [==============================] - 12s 682ms/step - loss: 1.3564 - acc: 0.4306 - val_loss: 1.3897 - val_acc: 0.2500\n",
            "Epoch 115/1000\n",
            "15/15 [==============================] - 13s 716ms/step - loss: 1.2737 - acc: 0.4500 - val_loss: 1.3572 - val_acc: 0.3000\n",
            "Epoch 116/1000\n",
            "15/15 [==============================] - 13s 714ms/step - loss: 1.3433 - acc: 0.4567 - val_loss: 1.8710 - val_acc: 0.1000\n",
            "Epoch 117/1000\n",
            "15/15 [==============================] - 13s 724ms/step - loss: 1.2895 - acc: 0.4333 - val_loss: 1.7415 - val_acc: 0.2000\n",
            "Epoch 118/1000\n",
            "15/15 [==============================] - 12s 691ms/step - loss: 1.3690 - acc: 0.4128 - val_loss: 1.6040 - val_acc: 0.3000\n",
            "Epoch 119/1000\n",
            "15/15 [==============================] - 13s 718ms/step - loss: 1.3012 - acc: 0.4200 - val_loss: 1.4689 - val_acc: 0.2500\n",
            "Epoch 120/1000\n",
            "15/15 [==============================] - 12s 688ms/step - loss: 1.3653 - acc: 0.4555 - val_loss: 1.2379 - val_acc: 0.3000\n",
            "Epoch 121/1000\n",
            "15/15 [==============================] - 12s 699ms/step - loss: 1.3691 - acc: 0.4342 - val_loss: 1.7765 - val_acc: 0.1000\n",
            "Epoch 122/1000\n",
            "15/15 [==============================] - 13s 715ms/step - loss: 1.4013 - acc: 0.4067 - val_loss: 1.3484 - val_acc: 0.2500\n",
            "Epoch 123/1000\n",
            "15/15 [==============================] - 13s 722ms/step - loss: 1.1749 - acc: 0.4867 - val_loss: 1.5610 - val_acc: 0.3000\n",
            "Epoch 124/1000\n",
            "15/15 [==============================] - 13s 728ms/step - loss: 1.3530 - acc: 0.3933 - val_loss: 1.6550 - val_acc: 0.1500\n",
            "Epoch 125/1000\n",
            "15/15 [==============================] - 12s 849ms/step - loss: 1.3169 - acc: 0.4448 - val_loss: 1.6646 - val_acc: 0.3000\n",
            "Epoch 126/1000\n",
            "15/15 [==============================] - 13s 726ms/step - loss: 1.2514 - acc: 0.4600 - val_loss: 1.8885 - val_acc: 0.2500\n",
            "Epoch 127/1000\n",
            "15/15 [==============================] - 12s 690ms/step - loss: 1.2944 - acc: 0.4128 - val_loss: 1.6972 - val_acc: 0.3000\n",
            "Epoch 128/1000\n",
            "15/15 [==============================] - 13s 721ms/step - loss: 1.2401 - acc: 0.4667 - val_loss: 1.8284 - val_acc: 0.1000\n",
            "Epoch 129/1000\n",
            "15/15 [==============================] - 13s 731ms/step - loss: 1.3923 - acc: 0.4467 - val_loss: 1.4598 - val_acc: 0.2000\n",
            "Epoch 130/1000\n",
            "15/15 [==============================] - 13s 726ms/step - loss: 1.3066 - acc: 0.4833 - val_loss: 1.3298 - val_acc: 0.1500\n",
            "Epoch 131/1000\n",
            "15/15 [==============================] - 12s 692ms/step - loss: 1.3972 - acc: 0.3986 - val_loss: 1.6492 - val_acc: 0.2500\n",
            "Epoch 132/1000\n",
            "15/15 [==============================] - 13s 727ms/step - loss: 1.3131 - acc: 0.4067 - val_loss: 1.6913 - val_acc: 0.2000\n",
            "Epoch 133/1000\n",
            "15/15 [==============================] - 13s 722ms/step - loss: 1.2350 - acc: 0.4600 - val_loss: 1.4117 - val_acc: 0.3000\n",
            "Epoch 134/1000\n",
            "15/15 [==============================] - 12s 724ms/step - loss: 1.3551 - acc: 0.4367 - val_loss: 1.5612 - val_acc: 0.2000\n",
            "Epoch 135/1000\n",
            "15/15 [==============================] - 12s 693ms/step - loss: 1.3300 - acc: 0.4342 - val_loss: 1.2510 - val_acc: 0.2500\n",
            "Epoch 136/1000\n",
            "15/15 [==============================] - 12s 696ms/step - loss: 1.3108 - acc: 0.4698 - val_loss: 1.6525 - val_acc: 0.2500\n",
            "Epoch 137/1000\n",
            "15/15 [==============================] - 12s 691ms/step - loss: 1.2639 - acc: 0.4306 - val_loss: 1.5660 - val_acc: 0.2000\n",
            "Epoch 138/1000\n",
            "15/15 [==============================] - 13s 721ms/step - loss: 1.2982 - acc: 0.4533 - val_loss: 1.4503 - val_acc: 0.1500\n",
            "Epoch 139/1000\n",
            "15/15 [==============================] - 13s 753ms/step - loss: 1.2590 - acc: 0.4533 - val_loss: 1.4449 - val_acc: 0.2500\n",
            "Epoch 140/1000\n",
            "15/15 [==============================] - 13s 743ms/step - loss: 1.3637 - acc: 0.4200 - val_loss: 1.4539 - val_acc: 0.3500\n",
            "Epoch 141/1000\n",
            "15/15 [==============================] - 13s 749ms/step - loss: 1.3434 - acc: 0.4567 - val_loss: 1.3912 - val_acc: 0.2500\n",
            "Epoch 142/1000\n",
            "15/15 [==============================] - 13s 758ms/step - loss: 1.3390 - acc: 0.4100 - val_loss: 1.6635 - val_acc: 0.3000\n",
            "Epoch 143/1000\n",
            "15/15 [==============================] - 13s 753ms/step - loss: 1.2616 - acc: 0.4467 - val_loss: 1.5870 - val_acc: 0.2000\n",
            "Epoch 144/1000\n",
            "15/15 [==============================] - 13s 720ms/step - loss: 1.3392 - acc: 0.4164 - val_loss: 1.3582 - val_acc: 0.2500\n",
            "Epoch 145/1000\n",
            "15/15 [==============================] - 13s 750ms/step - loss: 1.1971 - acc: 0.4233 - val_loss: 1.3318 - val_acc: 0.2000\n",
            "Epoch 146/1000\n",
            "15/15 [==============================] - 13s 750ms/step - loss: 1.3120 - acc: 0.4633 - val_loss: 1.3922 - val_acc: 0.2000\n",
            "Epoch 147/1000\n",
            "15/15 [==============================] - 13s 748ms/step - loss: 1.2874 - acc: 0.4633 - val_loss: 1.2316 - val_acc: 0.3000\n",
            "Epoch 148/1000\n",
            "15/15 [==============================] - 12s 714ms/step - loss: 1.2643 - acc: 0.4662 - val_loss: 1.5848 - val_acc: 0.2000\n",
            "Epoch 149/1000\n",
            "15/15 [==============================] - 12s 712ms/step - loss: 1.1701 - acc: 0.5053 - val_loss: 1.6332 - val_acc: 0.3500\n",
            "Epoch 150/1000\n",
            "15/15 [==============================] - 13s 749ms/step - loss: 1.1565 - acc: 0.4833 - val_loss: 1.6267 - val_acc: 0.3000\n",
            "Epoch 151/1000\n",
            "15/15 [==============================] - 13s 742ms/step - loss: 1.2031 - acc: 0.4900 - val_loss: 1.3722 - val_acc: 0.2500\n",
            "Epoch 152/1000\n",
            "15/15 [==============================] - 13s 740ms/step - loss: 1.2459 - acc: 0.4767 - val_loss: 1.7921 - val_acc: 0.1000\n",
            "Epoch 153/1000\n",
            "15/15 [==============================] - 12s 703ms/step - loss: 1.2594 - acc: 0.4413 - val_loss: 1.9327 - val_acc: 0.2000\n",
            "Epoch 154/1000\n",
            "15/15 [==============================] - 12s 703ms/step - loss: 1.2759 - acc: 0.4662 - val_loss: 1.2192 - val_acc: 0.3000\n",
            "Epoch 155/1000\n",
            "15/15 [==============================] - 13s 736ms/step - loss: 1.2744 - acc: 0.4500 - val_loss: 1.4603 - val_acc: 0.2500\n",
            "Epoch 156/1000\n",
            "15/15 [==============================] - 13s 744ms/step - loss: 1.1179 - acc: 0.5100 - val_loss: 1.3765 - val_acc: 0.3500\n",
            "Epoch 157/1000\n",
            "15/15 [==============================] - 13s 731ms/step - loss: 1.2371 - acc: 0.4733 - val_loss: 1.5564 - val_acc: 0.2500\n",
            "Epoch 158/1000\n",
            "15/15 [==============================] - 12s 703ms/step - loss: 1.2738 - acc: 0.4804 - val_loss: 1.5332 - val_acc: 0.1500\n",
            "Epoch 159/1000\n",
            "15/15 [==============================] - 13s 734ms/step - loss: 1.2705 - acc: 0.4367 - val_loss: 1.4094 - val_acc: 0.1000\n",
            "Epoch 160/1000\n",
            "15/15 [==============================] - 13s 755ms/step - loss: 1.2767 - acc: 0.4533 - val_loss: 1.7323 - val_acc: 0.1500\n",
            "Epoch 161/1000\n",
            "15/15 [==============================] - 13s 884ms/step - loss: 1.3405 - acc: 0.4484 - val_loss: 1.4850 - val_acc: 0.2000\n",
            "Epoch 162/1000\n",
            "15/15 [==============================] - 12s 702ms/step - loss: 1.2148 - acc: 0.4626 - val_loss: 1.4253 - val_acc: 0.3000\n",
            "Epoch 163/1000\n",
            "15/15 [==============================] - 13s 728ms/step - loss: 1.2377 - acc: 0.4767 - val_loss: 1.7227 - val_acc: 0.1000\n",
            "Epoch 164/1000\n",
            "15/15 [==============================] - 12s 704ms/step - loss: 1.3138 - acc: 0.4698 - val_loss: 1.6152 - val_acc: 0.2500\n",
            "Epoch 165/1000\n",
            "15/15 [==============================] - 13s 715ms/step - loss: 1.2089 - acc: 0.4867 - val_loss: 1.6421 - val_acc: 0.2000\n",
            "Epoch 166/1000\n",
            "15/15 [==============================] - 13s 724ms/step - loss: 1.2318 - acc: 0.4800 - val_loss: 1.3653 - val_acc: 0.3500\n",
            "Epoch 167/1000\n",
            "15/15 [==============================] - 13s 724ms/step - loss: 1.2651 - acc: 0.4600 - val_loss: 1.4249 - val_acc: 0.2000\n",
            "Epoch 168/1000\n",
            "15/15 [==============================] - 13s 735ms/step - loss: 1.2453 - acc: 0.4767 - val_loss: 1.4905 - val_acc: 0.2500\n",
            "Epoch 169/1000\n",
            "15/15 [==============================] - 13s 735ms/step - loss: 1.2453 - acc: 0.4633 - val_loss: 1.4447 - val_acc: 0.3000\n",
            "Epoch 170/1000\n",
            "15/15 [==============================] - 13s 716ms/step - loss: 1.3475 - acc: 0.4033 - val_loss: 1.4434 - val_acc: 0.2500\n",
            "Epoch 171/1000\n",
            "15/15 [==============================] - 12s 691ms/step - loss: 1.1881 - acc: 0.4875 - val_loss: 1.5605 - val_acc: 0.4000\n",
            "Epoch 172/1000\n",
            "15/15 [==============================] - 13s 737ms/step - loss: 1.2014 - acc: 0.4567 - val_loss: 1.6572 - val_acc: 0.2500\n",
            "Epoch 173/1000\n",
            "15/15 [==============================] - 13s 754ms/step - loss: 1.2800 - acc: 0.4467 - val_loss: 1.1744 - val_acc: 0.3500\n",
            "Epoch 174/1000\n",
            "15/15 [==============================] - 13s 728ms/step - loss: 1.3326 - acc: 0.4033 - val_loss: 1.7757 - val_acc: 0.2000\n",
            "Epoch 175/1000\n",
            "15/15 [==============================] - 12s 685ms/step - loss: 1.2197 - acc: 0.4733 - val_loss: 1.7018 - val_acc: 0.1500\n",
            "Epoch 176/1000\n",
            "15/15 [==============================] - 12s 712ms/step - loss: 1.2596 - acc: 0.4769 - val_loss: 1.3602 - val_acc: 0.2000\n",
            "Epoch 177/1000\n",
            "15/15 [==============================] - 13s 764ms/step - loss: 1.1946 - acc: 0.4633 - val_loss: 1.5942 - val_acc: 0.1500\n",
            "Epoch 178/1000\n",
            "15/15 [==============================] - 13s 771ms/step - loss: 1.1913 - acc: 0.4900 - val_loss: 1.4111 - val_acc: 0.4500\n",
            "Epoch 179/1000\n",
            "15/15 [==============================] - 13s 733ms/step - loss: 1.1618 - acc: 0.4875 - val_loss: 1.6055 - val_acc: 0.2000\n",
            "Epoch 180/1000\n",
            "15/15 [==============================] - 13s 736ms/step - loss: 1.2871 - acc: 0.4633 - val_loss: 1.4369 - val_acc: 0.2000\n",
            "Epoch 181/1000\n",
            "15/15 [==============================] - 13s 769ms/step - loss: 1.2130 - acc: 0.4433 - val_loss: 1.3608 - val_acc: 0.4000\n",
            "Epoch 182/1000\n",
            "15/15 [==============================] - 13s 742ms/step - loss: 1.2305 - acc: 0.4500 - val_loss: 1.3771 - val_acc: 0.2000\n",
            "Epoch 183/1000\n",
            "15/15 [==============================] - 13s 768ms/step - loss: 1.2887 - acc: 0.4533 - val_loss: 1.6477 - val_acc: 0.3000\n",
            "Epoch 184/1000\n",
            "15/15 [==============================] - 13s 754ms/step - loss: 1.1742 - acc: 0.5018 - val_loss: 1.3572 - val_acc: 0.3500\n",
            "Epoch 185/1000\n",
            "15/15 [==============================] - 13s 761ms/step - loss: 1.2088 - acc: 0.4633 - val_loss: 1.4735 - val_acc: 0.3500\n",
            "Epoch 186/1000\n",
            "15/15 [==============================] - 13s 729ms/step - loss: 1.2320 - acc: 0.4769 - val_loss: 1.4748 - val_acc: 0.2500\n",
            "Epoch 187/1000\n",
            "15/15 [==============================] - 13s 738ms/step - loss: 1.1135 - acc: 0.5133 - val_loss: 1.2225 - val_acc: 0.2500\n",
            "Epoch 188/1000\n",
            "15/15 [==============================] - 13s 752ms/step - loss: 1.2322 - acc: 0.4867 - val_loss: 1.5873 - val_acc: 0.1500\n",
            "Epoch 189/1000\n",
            "15/15 [==============================] - 13s 725ms/step - loss: 1.2725 - acc: 0.4377 - val_loss: 1.6772 - val_acc: 0.2000\n",
            "Epoch 190/1000\n",
            "15/15 [==============================] - 13s 731ms/step - loss: 1.2237 - acc: 0.4698 - val_loss: 1.5699 - val_acc: 0.3500\n",
            "Epoch 191/1000\n",
            "15/15 [==============================] - 13s 757ms/step - loss: 1.2539 - acc: 0.4767 - val_loss: 1.7279 - val_acc: 0.2500\n",
            "Epoch 192/1000\n",
            "15/15 [==============================] - 14s 779ms/step - loss: 1.2703 - acc: 0.4500 - val_loss: 1.1316 - val_acc: 0.3000\n",
            "Epoch 193/1000\n",
            "15/15 [==============================] - 14s 784ms/step - loss: 1.2661 - acc: 0.4767 - val_loss: 1.9107 - val_acc: 0.2000\n",
            "Epoch 194/1000\n",
            "15/15 [==============================] - 13s 759ms/step - loss: 1.2341 - acc: 0.4698 - val_loss: 1.8125 - val_acc: 0.1000\n",
            "Epoch 195/1000\n",
            "15/15 [==============================] - 13s 745ms/step - loss: 1.1180 - acc: 0.5018 - val_loss: 1.4494 - val_acc: 0.3000\n",
            "Epoch 196/1000\n",
            "15/15 [==============================] - 14s 792ms/step - loss: 1.2267 - acc: 0.4800 - val_loss: 1.2004 - val_acc: 0.3500\n",
            "Epoch 197/1000\n",
            "15/15 [==============================] - 13s 747ms/step - loss: 1.1587 - acc: 0.4947 - val_loss: 1.5820 - val_acc: 0.1500\n",
            "Epoch 198/1000\n",
            "15/15 [==============================] - 14s 778ms/step - loss: 1.2549 - acc: 0.4367 - val_loss: 1.3915 - val_acc: 0.2500\n",
            "Epoch 199/1000\n",
            "15/15 [==============================] - 13s 767ms/step - loss: 1.2383 - acc: 0.4600 - val_loss: 1.4070 - val_acc: 0.2000\n",
            "Epoch 200/1000\n",
            "15/15 [==============================] - 13s 751ms/step - loss: 1.2259 - acc: 0.4698 - val_loss: 1.7162 - val_acc: 0.1500\n",
            "Epoch 201/1000\n",
            "15/15 [==============================] - 17s 1s/step - loss: 1.1918 - acc: 0.4875 - val_loss: 1.4362 - val_acc: 0.3500\n",
            "Epoch 202/1000\n",
            "15/15 [==============================] - 14s 790ms/step - loss: 1.2439 - acc: 0.4733 - val_loss: 1.4188 - val_acc: 0.2500\n",
            "Epoch 203/1000\n",
            "15/15 [==============================] - 14s 790ms/step - loss: 1.1728 - acc: 0.4967 - val_loss: 1.6138 - val_acc: 0.2000\n",
            "Epoch 204/1000\n",
            "15/15 [==============================] - 13s 756ms/step - loss: 1.2157 - acc: 0.4698 - val_loss: 1.3150 - val_acc: 0.3000\n",
            "Epoch 205/1000\n",
            "15/15 [==============================] - 14s 799ms/step - loss: 1.1169 - acc: 0.5133 - val_loss: 1.5551 - val_acc: 0.3000\n",
            "Epoch 206/1000\n",
            "15/15 [==============================] - 14s 778ms/step - loss: 1.1915 - acc: 0.4767 - val_loss: 1.7351 - val_acc: 0.2000\n",
            "Epoch 207/1000\n",
            "15/15 [==============================] - 13s 773ms/step - loss: 1.2327 - acc: 0.4500 - val_loss: 1.3773 - val_acc: 0.3500\n",
            "Epoch 208/1000\n",
            "15/15 [==============================] - 14s 779ms/step - loss: 1.1275 - acc: 0.5100 - val_loss: 1.3923 - val_acc: 0.2500\n",
            "Epoch 209/1000\n",
            "15/15 [==============================] - 13s 751ms/step - loss: 1.1996 - acc: 0.4804 - val_loss: 1.5128 - val_acc: 0.2000\n",
            "Epoch 210/1000\n",
            "15/15 [==============================] - 14s 784ms/step - loss: 1.2108 - acc: 0.4667 - val_loss: 1.5377 - val_acc: 0.3500\n",
            "Epoch 211/1000\n",
            "15/15 [==============================] - 13s 752ms/step - loss: 1.1772 - acc: 0.5231 - val_loss: 1.2511 - val_acc: 0.2500\n",
            "Epoch 212/1000\n",
            "15/15 [==============================] - 14s 831ms/step - loss: 1.2096 - acc: 0.5167 - val_loss: 1.6205 - val_acc: 0.2500\n",
            "Epoch 213/1000\n",
            "15/15 [==============================] - 14s 781ms/step - loss: 1.1468 - acc: 0.5267 - val_loss: 1.8381 - val_acc: 0.1500\n",
            "Epoch 214/1000\n",
            "14/15 [===========================>..] - ETA: 0s - loss: 1.2643 - acc: 0.4643"
          ]
        }
      ]
    },
    {
      "cell_type": "code",
      "source": [
        "history.history"
      ],
      "metadata": {
        "id": "tO_KJFVJu6ya"
      },
      "execution_count": null,
      "outputs": []
    },
    {
      "cell_type": "markdown",
      "source": [
        "### Plot training performance"
      ],
      "metadata": {
        "id": "54D1y5fZcRUO"
      }
    },
    {
      "cell_type": "code",
      "source": [
        "acc = history.history['acc']\n",
        "val_acc = history.history['val_acc']\n",
        "loss = history.history['loss']\n",
        "val_loss = history.history['val_loss']\n",
        "\n",
        "epochs_x = range(len(acc))\n",
        "\n",
        "plt.plot(epochs_x, acc, 'co', label='Training acc')\n",
        "plt.plot(epochs_x, val_acc, 'k', label='Validation acc')\n",
        "plt.title('Training and validation accuracy')\n",
        "plt.legend()\n",
        "\n",
        "plt.figure()\n",
        "\n",
        "plt.plot(epochs_x, loss, 'co', label='Training loss')\n",
        "plt.plot(epochs_x, val_loss, 'k', label='Validation loss')\n",
        "plt.title('Training and validation loss')\n",
        "plt.legend()\n",
        "\n",
        "plt.show()"
      ],
      "metadata": {
        "id": "Aig-yHOBcNrP"
      },
      "execution_count": null,
      "outputs": []
    },
    {
      "cell_type": "markdown",
      "source": [
        "**SAVE model** "
      ],
      "metadata": {
        "id": "okE8lIwPkoSx"
      }
    },
    {
      "cell_type": "code",
      "source": [
        "os.makedirs('./content/drive/My Drive/new', exist_ok=True)\n",
        "model.save('./content/drive/My Drive/new/newdata_SEM1.h5')"
      ],
      "metadata": {
        "id": "f_Xlg2XSuT9L"
      },
      "execution_count": null,
      "outputs": []
    },
    {
      "cell_type": "code",
      "source": [
        "from google.colab import files"
      ],
      "metadata": {
        "id": "HuBli3HajIR2"
      },
      "execution_count": null,
      "outputs": []
    },
    {
      "cell_type": "code",
      "source": [
        "files.download(\"./content/drive/My Drive/new/newdata_SEM1.h5\")"
      ],
      "metadata": {
        "id": "zblzwvRGkSCR"
      },
      "execution_count": null,
      "outputs": []
    }
  ]
}