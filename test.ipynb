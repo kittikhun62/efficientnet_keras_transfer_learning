{
  "nbformat": 4,
  "nbformat_minor": 0,
  "metadata": {
    "colab": {
      "private_outputs": true,
      "provenance": [],
      "authorship_tag": "ABX9TyNnvmTYicxj1dPhyk3qnnRp",
      "include_colab_link": true
    },
    "kernelspec": {
      "name": "python3",
      "display_name": "Python 3"
    },
    "language_info": {
      "name": "python"
    }
  },
  "cells": [
    {
      "cell_type": "markdown",
      "metadata": {
        "id": "view-in-github",
        "colab_type": "text"
      },
      "source": [
        "<a href=\"https://colab.research.google.com/github/kittikhun62/efficientnet_keras_transfer_learning/blob/master/test.ipynb\" target=\"_parent\"><img src=\"https://colab.research.google.com/assets/colab-badge.svg\" alt=\"Open In Colab\"/></a>"
      ]
    },
    {
      "cell_type": "code",
      "source": [
        "from google.colab import drive\n",
        "drive.mount('/content/drive')"
      ],
      "metadata": {
        "id": "lPOX6fYj-lfH"
      },
      "execution_count": null,
      "outputs": []
    },
    {
      "cell_type": "code",
      "source": [
        "import pandas as pd\n",
        "import shutil"
      ],
      "metadata": {
        "id": "tl04Grfd-lcm"
      },
      "execution_count": null,
      "outputs": []
    },
    {
      "cell_type": "code",
      "source": [
        "\n",
        "df = pd.read_csv (r'/content/drive/My Drive/data - All SEM.csv')\n",
        "df\n",
        "     "
      ],
      "metadata": {
        "id": "uqoH2KKA-laY"
      },
      "execution_count": null,
      "outputs": []
    },
    {
      "cell_type": "code",
      "source": [
        "\n",
        "#ดึงข้อมูลใน Github มาใช้\n",
        "import os\n",
        "%cd /content\n",
        "if not os.path.isdir(\"efficientnet_keras_transfer_learning\"):\n",
        " !git clone https://github.com/Wanita-8943/efficientnet_keras_transfer_learning\n",
        "%cd efficientnet_keras_transfer_learning/"
      ],
      "metadata": {
        "id": "XziQtc-5-lYS"
      },
      "execution_count": null,
      "outputs": []
    },
    {
      "cell_type": "code",
      "execution_count": null,
      "metadata": {
        "id": "WbpEDH5_9s2g"
      },
      "outputs": [],
      "source": [
        "from tensorflow.keras import models\n",
        "from tensorflow.keras import layers\n",
        "from tensorflow.keras import optimizers\n",
        "import os\n",
        "import glob\n",
        "import shutil\n",
        "import sys\n",
        "import numpy as np\n",
        "from skimage.io import imread\n",
        "import matplotlib.pyplot as plt\n",
        "from IPython.display import Image\n",
        "from tensorflow.keras import callbacks"
      ]
    },
    {
      "cell_type": "code",
      "source": [
        "import sys\n",
        "sys.path.append('/content/drive/My Drive/new/Sem_BET.h5')\n",
        "\n",
        "from efficientnet.layers import Swish, DropConnect\n",
        "from efficientnet.model import ConvKernalInitializer\n",
        "from tensorflow.keras.utils import get_custom_objects\n",
        "\n",
        "get_custom_objects().update({\n",
        "    'ConvKernalInitializer': ConvKernalInitializer,\n",
        "    'Swish': Swish,\n",
        "    'DropConnect':DropConnect\n",
        "})"
      ],
      "metadata": {
        "id": "OZmHFC1w-lV_"
      },
      "execution_count": null,
      "outputs": []
    },
    {
      "cell_type": "code",
      "source": [
        "#load model \n",
        "from tensorflow.keras.models import load_model\n",
        "model = load_model('/content/drive/My Drive/new/Sem_BET.h5')\n",
        "height = width = model.input_shape[1]"
      ],
      "metadata": {
        "id": "bn53y0D6ik_a"
      },
      "execution_count": null,
      "outputs": []
    },
    {
      "cell_type": "code",
      "source": [
        "model.summary()"
      ],
      "metadata": {
        "id": "bNT-Lhol97dw"
      },
      "execution_count": null,
      "outputs": []
    },
    {
      "cell_type": "code",
      "source": [
        "from tensorflow.keras.preprocessing import image\n",
        "import pandas as pd"
      ],
      "metadata": {
        "id": "d0CIBrCu97XA"
      },
      "execution_count": null,
      "outputs": []
    },
    {
      "cell_type": "code",
      "source": [
        "y = test\n",
        "y.head()"
      ],
      "metadata": {
        "id": "OlCx9OiF95wl"
      },
      "execution_count": null,
      "outputs": []
    },
    {
      "cell_type": "code",
      "source": [
        "act = []\n",
        "pred = []"
      ],
      "metadata": {
        "id": "nOuz9LCNCPqS"
      },
      "execution_count": null,
      "outputs": []
    },
    {
      "cell_type": "code",
      "source": [
        "for row in y.iterrows():\n",
        "    act.append(row[1]['Class'])\n",
        "    print(row[1]['Class'])"
      ],
      "metadata": {
        "id": "6EP_GeR399vD"
      },
      "execution_count": null,
      "outputs": []
    },
    {
      "cell_type": "code",
      "source": [],
      "metadata": {
        "id": "4Ezt-s5VGLBa"
      },
      "execution_count": null,
      "outputs": []
    },
    {
      "cell_type": "code",
      "source": [],
      "metadata": {
        "id": "yarFAlxAGK98"
      },
      "execution_count": null,
      "outputs": []
    },
    {
      "cell_type": "code",
      "source": [],
      "metadata": {
        "id": "LU5l2pbPGK7M"
      },
      "execution_count": null,
      "outputs": []
    },
    {
      "cell_type": "code",
      "source": [
        "clases = ['0-500','501-1000','1001-3200']\n",
        "test = df[df['No'].between(290,320)] \n",
        "results = list()\n",
        "#pred_all, prob_all, act_true_all = [], [],[]\n",
        "\n",
        "for i in clases:\n",
        "    img_path =test[test['Class']==i]['path_Picture'].tolist()\n",
        "    for j in img_path:\n",
        "        img = image.load_img(j, target_size=(height, width))\n",
        "            # Convert it to a Numpy array with target shape.\n",
        "        x = image.img_to_array(img)\n",
        "            # Reshape\n",
        "        x = x.reshape((1,) + x.shape)\n",
        "        x /= 255.\n",
        "        result = model.predict([x])[0]\n",
        "        n = 3\n",
        "        avgDists = result\n",
        "        idxs = avgDists.argsort()[::-1][:n] #sort max\n",
        "        predlist,problist = list(), list()\n",
        "        for m in idxs:\n",
        "            pred =  clases[m]\n",
        "            prob = result[m]\n",
        "            predlist.append(pred)\n",
        "            problist.append(prob)\n",
        "        act_true = i\n",
        "        prob_max = problist[0]\n",
        "        pred_max = predlist[0]\n",
        "\n",
        "        results.append({'classtrue':act_true,'classpre':pred_max,'class_prob':prob_max})"
      ],
      "metadata": {
        "id": "IwYbsWFUi6es"
      },
      "execution_count": null,
      "outputs": []
    },
    {
      "cell_type": "code",
      "source": [
        "resultss = pd.DataFrame(results)\n",
        "resultss\n",
        "     "
      ],
      "metadata": {
        "id": "rUtRfE5ii6cd"
      },
      "execution_count": null,
      "outputs": []
    },
    {
      "cell_type": "code",
      "source": [
        "import numpy as np\n",
        "from sklearn.metrics import confusion_matrix\n",
        "\n",
        "train = df\n",
        "#เช็คคลาสใน Predicted\n",
        "pred_class = set(resultss['classtrue'])\n",
        "print('Predicted : ',len(pred_class))\n",
        "print(pred_class)\n",
        "print('-'*50)\n",
        "#เช็คคลาสใน Actual\n",
        "classe = set(resultss['classpre'])\n",
        "print('Actual : ',len(classe))\n",
        "print(classe)"
      ],
      "metadata": {
        "id": "NI2Mrrf1jp71"
      },
      "execution_count": null,
      "outputs": []
    },
    {
      "cell_type": "code",
      "source": [
        "act = resultss['classtrue'].array\n",
        "pred = resultss['classpre'].array\n",
        "\n",
        "cmat = confusion_matrix(act, pred)\n",
        "print('classifier accuracy = {}%'.format((100.*np.trace(cmat))/(np.sum(cmat))))\n",
        "\n",
        "#Marking the Confusion Matrix\n",
        "from sklearn.metrics import classification_report,confusion_matrix\n",
        "print(classification_report(act, pred))#performance"
      ],
      "metadata": {
        "id": "cWA1YpotkDHi"
      },
      "execution_count": null,
      "outputs": []
    },
    {
      "cell_type": "code",
      "source": [
        "#create CF \n",
        "data = {'Actual': act,'Predicted' : pred,}\n",
        "df = pd.DataFrame(data, columns=['Actual','Predicted'])\n",
        "conf_mat = pd.crosstab(df['Actual'],df['Predicted'],rownames=['Actual'],colnames=['Predicted'])\n",
        "\n",
        "#Confusion matrix\n",
        "from sklearn.metrics import confusion_matrix\n",
        "import matplotlib.pyplot as plt\n",
        "cm = confusion_matrix(act, pred)\n",
        "\n",
        "#plot Confusion matrix\n",
        "import seaborn as sns\n",
        "sns.set()\n",
        "fig, ax = plt.subplots(figsize=(10, 8))\n",
        "\n",
        "ax = sns.heatmap(conf_mat, annot=True, fmt=\"d\", cmap=\"YlGnBu\") #Blues,Oranges,Reds\n",
        "ax.set_title('Confusion matrix',fontsize=20)\n",
        "ax.set_ylabel('True label',fontsize=18)\n",
        "ax.set_xlabel('Predicted label',fontsize=18)"
      ],
      "metadata": {
        "id": "0NvgsFfvkIpN"
      },
      "execution_count": null,
      "outputs": []
    },
    {
      "cell_type": "code",
      "source": [],
      "metadata": {
        "id": "QTQ97qvTkpLB"
      },
      "execution_count": null,
      "outputs": []
    }
  ]
}