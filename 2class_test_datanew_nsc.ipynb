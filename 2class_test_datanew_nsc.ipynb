{
  "nbformat": 4,
  "nbformat_minor": 0,
  "metadata": {
    "colab": {
      "provenance": [],
      "machine_shape": "hm",
      "authorship_tag": "ABX9TyP4C36irrrMReppY3lmIwtH",
      "include_colab_link": true
    },
    "kernelspec": {
      "name": "python3",
      "display_name": "Python 3"
    },
    "language_info": {
      "name": "python"
    },
    "gpuClass": "standard"
  },
  "cells": [
    {
      "cell_type": "markdown",
      "metadata": {
        "id": "view-in-github",
        "colab_type": "text"
      },
      "source": [
        "<a href=\"https://colab.research.google.com/github/kittikhun62/efficientnet_keras_transfer_learning/blob/master/2class_test_datanew_nsc.ipynb\" target=\"_parent\"><img src=\"https://colab.research.google.com/assets/colab-badge.svg\" alt=\"Open In Colab\"/></a>"
      ]
    },
    {
      "cell_type": "code",
      "execution_count": 4,
      "metadata": {
        "colab": {
          "base_uri": "https://localhost:8080/"
        },
        "id": "EoORup2fr1UL",
        "outputId": "085cce5a-f490-4e43-be49-9ec0fc755470"
      },
      "outputs": [
        {
          "output_type": "stream",
          "name": "stdout",
          "text": [
            "Drive already mounted at /content/drive; to attempt to forcibly remount, call drive.mount(\"/content/drive\", force_remount=True).\n"
          ]
        }
      ],
      "source": [
        "from google.colab import drive\n",
        "drive.mount('/content/drive')\n",
        "import pandas as pd"
      ]
    },
    {
      "cell_type": "code",
      "source": [
        "import os\n",
        "%cd /content\n",
        "if not os.path.isdir(\"efficientnet_keras_transfer_learning\"):\n",
        " !git clone https://github.com/Wanita-8943/efficientnet_keras_transfer_learning\n",
        "%cd efficientnet_keras_transfer_learning/"
      ],
      "metadata": {
        "colab": {
          "base_uri": "https://localhost:8080/"
        },
        "id": "_bjlFi2Sr-rk",
        "outputId": "c2a55f4c-71a3-4f56-edc0-98473093b805"
      },
      "execution_count": 5,
      "outputs": [
        {
          "output_type": "stream",
          "name": "stdout",
          "text": [
            "/content\n",
            "/content/efficientnet_keras_transfer_learning\n"
          ]
        }
      ]
    },
    {
      "cell_type": "code",
      "source": [
        "df = pd.read_csv (r'/content/drive/My Drive/data_nsc - ใช้อันนี้เทรนV2.csv')\n",
        "df"
      ],
      "metadata": {
        "colab": {
          "base_uri": "https://localhost:8080/",
          "height": 424
        },
        "id": "qNioe-cRr-pe",
        "outputId": "88cb8427-5fbf-42f5-f4b0-ec3d21bf07e5"
      },
      "execution_count": 6,
      "outputs": [
        {
          "output_type": "execute_result",
          "data": {
            "text/plain": [
              "        No                      Name_file  \\\n",
              "0        1  1-s2.0-S2352152X22008957-main   \n",
              "1        2  1-s2.0-S2352152X22008957-main   \n",
              "2        3  1-s2.0-S2352152X22008957-main   \n",
              "3        4  1-s2.0-S2352152X22008957-main   \n",
              "4        5  1-s2.0-S2352152X22008957-main   \n",
              "...    ...                            ...   \n",
              "1321  1322  1-s2.0-S0926669022000292-main   \n",
              "1322  1323                         new-sb   \n",
              "1323  1324                         new-sb   \n",
              "1324  1325                         new-sb   \n",
              "1325  1326                         new-sb   \n",
              "\n",
              "                                             Name_Paper  \\\n",
              "0     Activated carbons obtained by environmentally ...   \n",
              "1     Activated carbons obtained by environmentally ...   \n",
              "2     Activated carbons obtained by environmentally ...   \n",
              "3     Activated carbons obtained by environmentally ...   \n",
              "4     Activated carbons obtained by environmentally ...   \n",
              "...                                                 ...   \n",
              "1321  Low-cost activated carbon preparation from Cor...   \n",
              "1322  Biosugarcane-based carbon support for high- pe...   \n",
              "1323  Biosugarcane-based carbon support for high- pe...   \n",
              "1324  Biosugarcane-based carbon support for high- pe...   \n",
              "1325  Biosugarcane-based carbon support for high- pe...   \n",
              "\n",
              "                          journal  \\\n",
              "0       Journal of Energy Storage   \n",
              "1       Journal of Energy Storage   \n",
              "2       Journal of Energy Storage   \n",
              "3       Journal of Energy Storage   \n",
              "4       Journal of Energy Storage   \n",
              "...                           ...   \n",
              "1321  Industrial Crops & Products   \n",
              "1322                     iScience   \n",
              "1323                     iScience   \n",
              "1324                     iScience   \n",
              "1325                     iScience   \n",
              "\n",
              "                                           path_Picture    detail     Class  \\\n",
              "0     /content/drive/My Drive/modelnsc/1-s2.0-S23521...  original  401-3200   \n",
              "1     /content/drive/My Drive/modelnsc/1-s2.0-S23521...  original  401-3200   \n",
              "2     /content/drive/My Drive/modelnsc/1-s2.0-S23521...  original  401-3200   \n",
              "3     /content/drive/My Drive/modelnsc/1-s2.0-S23521...  original  401-3200   \n",
              "4     /content/drive/My Drive/modelnsc/1-s2.0-S23521...  original  401-3200   \n",
              "...                                                 ...       ...       ...   \n",
              "1321  /content/drive/My Drive/modelnsc/1-s2.0-S09266...  original     0-400   \n",
              "1322     /content/drive/My Drive/modelnsc/new-sb/18.png  original     0-400   \n",
              "1323     /content/drive/My Drive/modelnsc/new-sb/19.png  original     0-400   \n",
              "1324     /content/drive/My Drive/modelnsc/new-sb/20.png  original     0-400   \n",
              "1325     /content/drive/My Drive/modelnsc/new-sb/21.png  original     0-400   \n",
              "\n",
              "         BET  Size(mico)  \n",
              "0      923.0          10  \n",
              "1     1223.0          10  \n",
              "2     1056.0          10  \n",
              "3      856.0          10  \n",
              "4     1263.0          10  \n",
              "...      ...         ...  \n",
              "1321    11.0          10  \n",
              "1322    53.7          10  \n",
              "1323    34.3          10  \n",
              "1324    27.2          10  \n",
              "1325    24.0          10  \n",
              "\n",
              "[1326 rows x 9 columns]"
            ],
            "text/html": [
              "\n",
              "  <div id=\"df-114d41f8-5082-4237-99dd-5a4ef0642be9\">\n",
              "    <div class=\"colab-df-container\">\n",
              "      <div>\n",
              "<style scoped>\n",
              "    .dataframe tbody tr th:only-of-type {\n",
              "        vertical-align: middle;\n",
              "    }\n",
              "\n",
              "    .dataframe tbody tr th {\n",
              "        vertical-align: top;\n",
              "    }\n",
              "\n",
              "    .dataframe thead th {\n",
              "        text-align: right;\n",
              "    }\n",
              "</style>\n",
              "<table border=\"1\" class=\"dataframe\">\n",
              "  <thead>\n",
              "    <tr style=\"text-align: right;\">\n",
              "      <th></th>\n",
              "      <th>No</th>\n",
              "      <th>Name_file</th>\n",
              "      <th>Name_Paper</th>\n",
              "      <th>journal</th>\n",
              "      <th>path_Picture</th>\n",
              "      <th>detail</th>\n",
              "      <th>Class</th>\n",
              "      <th>BET</th>\n",
              "      <th>Size(mico)</th>\n",
              "    </tr>\n",
              "  </thead>\n",
              "  <tbody>\n",
              "    <tr>\n",
              "      <th>0</th>\n",
              "      <td>1</td>\n",
              "      <td>1-s2.0-S2352152X22008957-main</td>\n",
              "      <td>Activated carbons obtained by environmentally ...</td>\n",
              "      <td>Journal of Energy Storage</td>\n",
              "      <td>/content/drive/My Drive/modelnsc/1-s2.0-S23521...</td>\n",
              "      <td>original</td>\n",
              "      <td>401-3200</td>\n",
              "      <td>923.0</td>\n",
              "      <td>10</td>\n",
              "    </tr>\n",
              "    <tr>\n",
              "      <th>1</th>\n",
              "      <td>2</td>\n",
              "      <td>1-s2.0-S2352152X22008957-main</td>\n",
              "      <td>Activated carbons obtained by environmentally ...</td>\n",
              "      <td>Journal of Energy Storage</td>\n",
              "      <td>/content/drive/My Drive/modelnsc/1-s2.0-S23521...</td>\n",
              "      <td>original</td>\n",
              "      <td>401-3200</td>\n",
              "      <td>1223.0</td>\n",
              "      <td>10</td>\n",
              "    </tr>\n",
              "    <tr>\n",
              "      <th>2</th>\n",
              "      <td>3</td>\n",
              "      <td>1-s2.0-S2352152X22008957-main</td>\n",
              "      <td>Activated carbons obtained by environmentally ...</td>\n",
              "      <td>Journal of Energy Storage</td>\n",
              "      <td>/content/drive/My Drive/modelnsc/1-s2.0-S23521...</td>\n",
              "      <td>original</td>\n",
              "      <td>401-3200</td>\n",
              "      <td>1056.0</td>\n",
              "      <td>10</td>\n",
              "    </tr>\n",
              "    <tr>\n",
              "      <th>3</th>\n",
              "      <td>4</td>\n",
              "      <td>1-s2.0-S2352152X22008957-main</td>\n",
              "      <td>Activated carbons obtained by environmentally ...</td>\n",
              "      <td>Journal of Energy Storage</td>\n",
              "      <td>/content/drive/My Drive/modelnsc/1-s2.0-S23521...</td>\n",
              "      <td>original</td>\n",
              "      <td>401-3200</td>\n",
              "      <td>856.0</td>\n",
              "      <td>10</td>\n",
              "    </tr>\n",
              "    <tr>\n",
              "      <th>4</th>\n",
              "      <td>5</td>\n",
              "      <td>1-s2.0-S2352152X22008957-main</td>\n",
              "      <td>Activated carbons obtained by environmentally ...</td>\n",
              "      <td>Journal of Energy Storage</td>\n",
              "      <td>/content/drive/My Drive/modelnsc/1-s2.0-S23521...</td>\n",
              "      <td>original</td>\n",
              "      <td>401-3200</td>\n",
              "      <td>1263.0</td>\n",
              "      <td>10</td>\n",
              "    </tr>\n",
              "    <tr>\n",
              "      <th>...</th>\n",
              "      <td>...</td>\n",
              "      <td>...</td>\n",
              "      <td>...</td>\n",
              "      <td>...</td>\n",
              "      <td>...</td>\n",
              "      <td>...</td>\n",
              "      <td>...</td>\n",
              "      <td>...</td>\n",
              "      <td>...</td>\n",
              "    </tr>\n",
              "    <tr>\n",
              "      <th>1321</th>\n",
              "      <td>1322</td>\n",
              "      <td>1-s2.0-S0926669022000292-main</td>\n",
              "      <td>Low-cost activated carbon preparation from Cor...</td>\n",
              "      <td>Industrial Crops &amp; Products</td>\n",
              "      <td>/content/drive/My Drive/modelnsc/1-s2.0-S09266...</td>\n",
              "      <td>original</td>\n",
              "      <td>0-400</td>\n",
              "      <td>11.0</td>\n",
              "      <td>10</td>\n",
              "    </tr>\n",
              "    <tr>\n",
              "      <th>1322</th>\n",
              "      <td>1323</td>\n",
              "      <td>new-sb</td>\n",
              "      <td>Biosugarcane-based carbon support for high- pe...</td>\n",
              "      <td>iScience</td>\n",
              "      <td>/content/drive/My Drive/modelnsc/new-sb/18.png</td>\n",
              "      <td>original</td>\n",
              "      <td>0-400</td>\n",
              "      <td>53.7</td>\n",
              "      <td>10</td>\n",
              "    </tr>\n",
              "    <tr>\n",
              "      <th>1323</th>\n",
              "      <td>1324</td>\n",
              "      <td>new-sb</td>\n",
              "      <td>Biosugarcane-based carbon support for high- pe...</td>\n",
              "      <td>iScience</td>\n",
              "      <td>/content/drive/My Drive/modelnsc/new-sb/19.png</td>\n",
              "      <td>original</td>\n",
              "      <td>0-400</td>\n",
              "      <td>34.3</td>\n",
              "      <td>10</td>\n",
              "    </tr>\n",
              "    <tr>\n",
              "      <th>1324</th>\n",
              "      <td>1325</td>\n",
              "      <td>new-sb</td>\n",
              "      <td>Biosugarcane-based carbon support for high- pe...</td>\n",
              "      <td>iScience</td>\n",
              "      <td>/content/drive/My Drive/modelnsc/new-sb/20.png</td>\n",
              "      <td>original</td>\n",
              "      <td>0-400</td>\n",
              "      <td>27.2</td>\n",
              "      <td>10</td>\n",
              "    </tr>\n",
              "    <tr>\n",
              "      <th>1325</th>\n",
              "      <td>1326</td>\n",
              "      <td>new-sb</td>\n",
              "      <td>Biosugarcane-based carbon support for high- pe...</td>\n",
              "      <td>iScience</td>\n",
              "      <td>/content/drive/My Drive/modelnsc/new-sb/21.png</td>\n",
              "      <td>original</td>\n",
              "      <td>0-400</td>\n",
              "      <td>24.0</td>\n",
              "      <td>10</td>\n",
              "    </tr>\n",
              "  </tbody>\n",
              "</table>\n",
              "<p>1326 rows × 9 columns</p>\n",
              "</div>\n",
              "      <button class=\"colab-df-convert\" onclick=\"convertToInteractive('df-114d41f8-5082-4237-99dd-5a4ef0642be9')\"\n",
              "              title=\"Convert this dataframe to an interactive table.\"\n",
              "              style=\"display:none;\">\n",
              "        \n",
              "  <svg xmlns=\"http://www.w3.org/2000/svg\" height=\"24px\"viewBox=\"0 0 24 24\"\n",
              "       width=\"24px\">\n",
              "    <path d=\"M0 0h24v24H0V0z\" fill=\"none\"/>\n",
              "    <path d=\"M18.56 5.44l.94 2.06.94-2.06 2.06-.94-2.06-.94-.94-2.06-.94 2.06-2.06.94zm-11 1L8.5 8.5l.94-2.06 2.06-.94-2.06-.94L8.5 2.5l-.94 2.06-2.06.94zm10 10l.94 2.06.94-2.06 2.06-.94-2.06-.94-.94-2.06-.94 2.06-2.06.94z\"/><path d=\"M17.41 7.96l-1.37-1.37c-.4-.4-.92-.59-1.43-.59-.52 0-1.04.2-1.43.59L10.3 9.45l-7.72 7.72c-.78.78-.78 2.05 0 2.83L4 21.41c.39.39.9.59 1.41.59.51 0 1.02-.2 1.41-.59l7.78-7.78 2.81-2.81c.8-.78.8-2.07 0-2.86zM5.41 20L4 18.59l7.72-7.72 1.47 1.35L5.41 20z\"/>\n",
              "  </svg>\n",
              "      </button>\n",
              "      \n",
              "  <style>\n",
              "    .colab-df-container {\n",
              "      display:flex;\n",
              "      flex-wrap:wrap;\n",
              "      gap: 12px;\n",
              "    }\n",
              "\n",
              "    .colab-df-convert {\n",
              "      background-color: #E8F0FE;\n",
              "      border: none;\n",
              "      border-radius: 50%;\n",
              "      cursor: pointer;\n",
              "      display: none;\n",
              "      fill: #1967D2;\n",
              "      height: 32px;\n",
              "      padding: 0 0 0 0;\n",
              "      width: 32px;\n",
              "    }\n",
              "\n",
              "    .colab-df-convert:hover {\n",
              "      background-color: #E2EBFA;\n",
              "      box-shadow: 0px 1px 2px rgba(60, 64, 67, 0.3), 0px 1px 3px 1px rgba(60, 64, 67, 0.15);\n",
              "      fill: #174EA6;\n",
              "    }\n",
              "\n",
              "    [theme=dark] .colab-df-convert {\n",
              "      background-color: #3B4455;\n",
              "      fill: #D2E3FC;\n",
              "    }\n",
              "\n",
              "    [theme=dark] .colab-df-convert:hover {\n",
              "      background-color: #434B5C;\n",
              "      box-shadow: 0px 1px 3px 1px rgba(0, 0, 0, 0.15);\n",
              "      filter: drop-shadow(0px 1px 2px rgba(0, 0, 0, 0.3));\n",
              "      fill: #FFFFFF;\n",
              "    }\n",
              "  </style>\n",
              "\n",
              "      <script>\n",
              "        const buttonEl =\n",
              "          document.querySelector('#df-114d41f8-5082-4237-99dd-5a4ef0642be9 button.colab-df-convert');\n",
              "        buttonEl.style.display =\n",
              "          google.colab.kernel.accessAllowed ? 'block' : 'none';\n",
              "\n",
              "        async function convertToInteractive(key) {\n",
              "          const element = document.querySelector('#df-114d41f8-5082-4237-99dd-5a4ef0642be9');\n",
              "          const dataTable =\n",
              "            await google.colab.kernel.invokeFunction('convertToInteractive',\n",
              "                                                     [key], {});\n",
              "          if (!dataTable) return;\n",
              "\n",
              "          const docLinkHtml = 'Like what you see? Visit the ' +\n",
              "            '<a target=\"_blank\" href=https://colab.research.google.com/notebooks/data_table.ipynb>data table notebook</a>'\n",
              "            + ' to learn more about interactive tables.';\n",
              "          element.innerHTML = '';\n",
              "          dataTable['output_type'] = 'display_data';\n",
              "          await google.colab.output.renderOutput(dataTable, element);\n",
              "          const docLink = document.createElement('div');\n",
              "          docLink.innerHTML = docLinkHtml;\n",
              "          element.appendChild(docLink);\n",
              "        }\n",
              "      </script>\n",
              "    </div>\n",
              "  </div>\n",
              "  "
            ]
          },
          "metadata": {},
          "execution_count": 6
        }
      ]
    },
    {
      "cell_type": "code",
      "source": [
        "import sys\n",
        "sys.path.append('/content/drive/My Drive/new/nsc4.h5')\n",
        "\n",
        "from efficientnet.layers import Swish, DropConnect\n",
        "from efficientnet.model import ConvKernalInitializer\n",
        "from tensorflow.keras.utils import get_custom_objects\n",
        "\n",
        "get_custom_objects().update({\n",
        "    'ConvKernalInitializer': ConvKernalInitializer,\n",
        "    'Swish': Swish,\n",
        "    'DropConnect':DropConnect\n",
        "})"
      ],
      "metadata": {
        "id": "-lYn9i_yr-nR"
      },
      "execution_count": 7,
      "outputs": []
    },
    {
      "cell_type": "code",
      "source": [
        "#load model \n",
        "from tensorflow.keras.models import load_model\n",
        "model = load_model('/content/drive/My Drive/new/nsc4.h5')\n",
        "height = width = model.input_shape[1]"
      ],
      "metadata": {
        "id": "yFJ0d-Xpr-lC"
      },
      "execution_count": 8,
      "outputs": []
    },
    {
      "cell_type": "code",
      "source": [
        "base_dir = '/content/drive/My Drive/modeldatansc'\n",
        "os.makedirs(base_dir, exist_ok=True)\n",
        "\n",
        "# Directories for our training,\n",
        "# validation and test splits\n",
        "train_dir = os.path.join(base_dir, 'train')\n",
        "os.makedirs(train_dir, exist_ok=True)\n",
        "validation_dir = os.path.join(base_dir, 'validation')\n",
        "os.makedirs(validation_dir, exist_ok=True)\n",
        "test_dir = os.path.join(base_dir, 'test')\n",
        "os.makedirs(test_dir, exist_ok=True)"
      ],
      "metadata": {
        "id": "FxC7bQMosG_Y"
      },
      "execution_count": 9,
      "outputs": []
    },
    {
      "cell_type": "code",
      "source": [
        "batch_size = 16\n",
        "\n",
        "from tensorflow.keras.preprocessing.image import ImageDataGenerator\n",
        "\n",
        "train_datagen = ImageDataGenerator(\n",
        "      rescale=1./255, # image input 0-255 --> 0-1 เปลี่ยนค่าสี\n",
        "      rotation_range=40,# หมุนภาพในองศา\n",
        "      width_shift_range=0.2, #เปลี่ยนความกว้าง\n",
        "      height_shift_range=0.2, #ปลี่ยนความสูง\n",
        "      shear_range=0.2, #ทำให้ภาพเบี้ยว\n",
        "      zoom_range=0.2, # Randomly zoom image\n",
        "      horizontal_flip=True, \n",
        "      #โดย Default เมื่อมีการเลื่อนภาพ บิดภาพ หมุนภาพ จะเกิดพื้นที่ว่างที่มุม \n",
        "      #ซึ่งจะมีการเติมภาพให้เต็มโดยใช้เทคนิคแบบ Nearest neighbor ซึ่งเป็นการดึงสีบริเวณใหล้าเคียงมาระบายให้เต็ม แต่เราก็ยังสามารถกำหนดวิธีการ Fill ภาพด้วยเทคนิคอื่นได้จาก Parameter fill_mode\n",
        "      fill_mode='nearest')\n",
        "# Note that the validation data should not be augmented!\n",
        "test_datagen = ImageDataGenerator(rescale=1./255)\n",
        "\n",
        "train_generator = train_datagen.flow_from_directory(\n",
        "        # This is the target directory #ไดเรกเป้าหมาย\n",
        "        train_dir,\n",
        "        # รูปภาพทั้งหมดจะถูกปรับขนาดตามความสูงและความกว้างของเป้าหมาย\n",
        "        target_size=(height, width),\n",
        "        batch_size=batch_size,\n",
        "        # Since we use categorical_crossentropy loss, we need categorical labels\n",
        "        #เนื่องจากเราใช้ categorical_crossentropy loss เราจึงต้องมีป้ายกำกับตามหมวดหมู่\n",
        "        class_mode='categorical')\n",
        "\n",
        "validation_generator = test_datagen.flow_from_directory( #การดึงภาพจาก Directory มาเข้าโมเดล \n",
        "        validation_dir,\n",
        "        target_size=(height, width),\n",
        "        batch_size=batch_size,\n",
        "        class_mode='categorical')\n",
        "     \n",
        "\n",
        "#label\n",
        "labels = (train_generator.class_indices)\n",
        "labels = dict((v,k) for k,v in labels.items())\n",
        "print(labels)"
      ],
      "metadata": {
        "colab": {
          "base_uri": "https://localhost:8080/"
        },
        "id": "T0pkMENlsG9P",
        "outputId": "4f614e02-9b1a-402d-ac64-784aab69473b"
      },
      "execution_count": 10,
      "outputs": [
        {
          "output_type": "stream",
          "name": "stdout",
          "text": [
            "Found 1279 images belonging to 2 classes.\n",
            "Found 17 images belonging to 2 classes.\n",
            "{0: '0-400', 1: '401-3200'}\n"
          ]
        }
      ]
    },
    {
      "cell_type": "code",
      "source": [
        "test = df[df['No'].between(1310,1326)] \n",
        "test"
      ],
      "metadata": {
        "colab": {
          "base_uri": "https://localhost:8080/",
          "height": 582
        },
        "id": "u63pphsfsG67",
        "outputId": "88cd2f81-805e-4a82-a345-4e503c9c83c9"
      },
      "execution_count": 11,
      "outputs": [
        {
          "output_type": "execute_result",
          "data": {
            "text/plain": [
              "        No                      Name_file  \\\n",
              "1309  1310                          Good2   \n",
              "1310  1311                          Good2   \n",
              "1311  1312                          Good2   \n",
              "1312  1313                          Good2   \n",
              "1313  1314                          Good2   \n",
              "1314  1315  1-s2.0-S0925963522003478-main   \n",
              "1315  1316  1-s2.0-S0926669022000292-main   \n",
              "1316  1317  1-s2.0-S0926669022000292-main   \n",
              "1317  1318  1-s2.0-S0926669022000292-main   \n",
              "1318  1319  1-s2.0-S0926669022000292-main   \n",
              "1319  1320  1-s2.0-S0926669022000292-main   \n",
              "1320  1321  1-s2.0-S0926669022000292-main   \n",
              "1321  1322  1-s2.0-S0926669022000292-main   \n",
              "1322  1323                         new-sb   \n",
              "1323  1324                         new-sb   \n",
              "1324  1325                         new-sb   \n",
              "1325  1326                         new-sb   \n",
              "\n",
              "                                             Name_Paper  \\\n",
              "1309  Effect of Ball Milling on the Electrochemical ...   \n",
              "1310  Effect of Ball Milling on the Electrochemical ...   \n",
              "1311  Effect of Ball Milling on the Electrochemical ...   \n",
              "1312  Effect of Ball Milling on the Electrochemical ...   \n",
              "1313  Effect of Ball Milling on the Electrochemical ...   \n",
              "1314  One-step production of N, S co-doped honeycomb...   \n",
              "1315  Low-cost activated carbon preparation from Cor...   \n",
              "1316  Low-cost activated carbon preparation from Cor...   \n",
              "1317  Low-cost activated carbon preparation from Cor...   \n",
              "1318  Low-cost activated carbon preparation from Cor...   \n",
              "1319  Low-cost activated carbon preparation from Cor...   \n",
              "1320  Low-cost activated carbon preparation from Cor...   \n",
              "1321  Low-cost activated carbon preparation from Cor...   \n",
              "1322  Biosugarcane-based carbon support for high- pe...   \n",
              "1323  Biosugarcane-based carbon support for high- pe...   \n",
              "1324  Biosugarcane-based carbon support for high- pe...   \n",
              "1325  Biosugarcane-based carbon support for high- pe...   \n",
              "\n",
              "                          journal  \\\n",
              "1309                    Batteries   \n",
              "1310                    Batteries   \n",
              "1311                    Batteries   \n",
              "1312                    Batteries   \n",
              "1313                    Batteries   \n",
              "1314  Diamond & Related Materials   \n",
              "1315  Industrial Crops & Products   \n",
              "1316  Industrial Crops & Products   \n",
              "1317  Industrial Crops & Products   \n",
              "1318  Industrial Crops & Products   \n",
              "1319  Industrial Crops & Products   \n",
              "1320  Industrial Crops & Products   \n",
              "1321  Industrial Crops & Products   \n",
              "1322                     iScience   \n",
              "1323                     iScience   \n",
              "1324                     iScience   \n",
              "1325                     iScience   \n",
              "\n",
              "                                           path_Picture    detail     Class  \\\n",
              "1309       /content/drive/My Drive/modelnsc/Good2/1.png  original  401-3200   \n",
              "1310       /content/drive/My Drive/modelnsc/Good2/2.png  original  401-3200   \n",
              "1311       /content/drive/My Drive/modelnsc/Good2/3.png  original  401-3200   \n",
              "1312       /content/drive/My Drive/modelnsc/Good2/4.png  original  401-3200   \n",
              "1313       /content/drive/My Drive/modelnsc/Good2/5.png  original  401-3200   \n",
              "1314  /content/drive/My Drive/modelnsc/1-s2.0-S09259...  original  401-3200   \n",
              "1315  /content/drive/My Drive/modelnsc/1-s2.0-S09266...  original     0-400   \n",
              "1316  /content/drive/My Drive/modelnsc/1-s2.0-S09266...  original     0-400   \n",
              "1317  /content/drive/My Drive/modelnsc/1-s2.0-S09266...  original  401-3200   \n",
              "1318  /content/drive/My Drive/modelnsc/1-s2.0-S09266...  original  401-3200   \n",
              "1319  /content/drive/My Drive/modelnsc/1-s2.0-S09266...  original  401-3200   \n",
              "1320  /content/drive/My Drive/modelnsc/1-s2.0-S09266...  original     0-400   \n",
              "1321  /content/drive/My Drive/modelnsc/1-s2.0-S09266...  original     0-400   \n",
              "1322     /content/drive/My Drive/modelnsc/new-sb/18.png  original     0-400   \n",
              "1323     /content/drive/My Drive/modelnsc/new-sb/19.png  original     0-400   \n",
              "1324     /content/drive/My Drive/modelnsc/new-sb/20.png  original     0-400   \n",
              "1325     /content/drive/My Drive/modelnsc/new-sb/21.png  original     0-400   \n",
              "\n",
              "          BET  Size(mico)  \n",
              "1309  3198.00          10  \n",
              "1310  3073.00          10  \n",
              "1311  3041.00          10  \n",
              "1312  2755.00          10  \n",
              "1313  2448.00          10  \n",
              "1314   818.00          10  \n",
              "1315     0.25          10  \n",
              "1316    35.00          10  \n",
              "1317   583.00          10  \n",
              "1318   820.00          10  \n",
              "1319   589.00          10  \n",
              "1320   389.00          10  \n",
              "1321    11.00          10  \n",
              "1322    53.70          10  \n",
              "1323    34.30          10  \n",
              "1324    27.20          10  \n",
              "1325    24.00          10  "
            ],
            "text/html": [
              "\n",
              "  <div id=\"df-6c15bc43-5a57-4445-8023-7b7f93990f79\">\n",
              "    <div class=\"colab-df-container\">\n",
              "      <div>\n",
              "<style scoped>\n",
              "    .dataframe tbody tr th:only-of-type {\n",
              "        vertical-align: middle;\n",
              "    }\n",
              "\n",
              "    .dataframe tbody tr th {\n",
              "        vertical-align: top;\n",
              "    }\n",
              "\n",
              "    .dataframe thead th {\n",
              "        text-align: right;\n",
              "    }\n",
              "</style>\n",
              "<table border=\"1\" class=\"dataframe\">\n",
              "  <thead>\n",
              "    <tr style=\"text-align: right;\">\n",
              "      <th></th>\n",
              "      <th>No</th>\n",
              "      <th>Name_file</th>\n",
              "      <th>Name_Paper</th>\n",
              "      <th>journal</th>\n",
              "      <th>path_Picture</th>\n",
              "      <th>detail</th>\n",
              "      <th>Class</th>\n",
              "      <th>BET</th>\n",
              "      <th>Size(mico)</th>\n",
              "    </tr>\n",
              "  </thead>\n",
              "  <tbody>\n",
              "    <tr>\n",
              "      <th>1309</th>\n",
              "      <td>1310</td>\n",
              "      <td>Good2</td>\n",
              "      <td>Effect of Ball Milling on the Electrochemical ...</td>\n",
              "      <td>Batteries</td>\n",
              "      <td>/content/drive/My Drive/modelnsc/Good2/1.png</td>\n",
              "      <td>original</td>\n",
              "      <td>401-3200</td>\n",
              "      <td>3198.00</td>\n",
              "      <td>10</td>\n",
              "    </tr>\n",
              "    <tr>\n",
              "      <th>1310</th>\n",
              "      <td>1311</td>\n",
              "      <td>Good2</td>\n",
              "      <td>Effect of Ball Milling on the Electrochemical ...</td>\n",
              "      <td>Batteries</td>\n",
              "      <td>/content/drive/My Drive/modelnsc/Good2/2.png</td>\n",
              "      <td>original</td>\n",
              "      <td>401-3200</td>\n",
              "      <td>3073.00</td>\n",
              "      <td>10</td>\n",
              "    </tr>\n",
              "    <tr>\n",
              "      <th>1311</th>\n",
              "      <td>1312</td>\n",
              "      <td>Good2</td>\n",
              "      <td>Effect of Ball Milling on the Electrochemical ...</td>\n",
              "      <td>Batteries</td>\n",
              "      <td>/content/drive/My Drive/modelnsc/Good2/3.png</td>\n",
              "      <td>original</td>\n",
              "      <td>401-3200</td>\n",
              "      <td>3041.00</td>\n",
              "      <td>10</td>\n",
              "    </tr>\n",
              "    <tr>\n",
              "      <th>1312</th>\n",
              "      <td>1313</td>\n",
              "      <td>Good2</td>\n",
              "      <td>Effect of Ball Milling on the Electrochemical ...</td>\n",
              "      <td>Batteries</td>\n",
              "      <td>/content/drive/My Drive/modelnsc/Good2/4.png</td>\n",
              "      <td>original</td>\n",
              "      <td>401-3200</td>\n",
              "      <td>2755.00</td>\n",
              "      <td>10</td>\n",
              "    </tr>\n",
              "    <tr>\n",
              "      <th>1313</th>\n",
              "      <td>1314</td>\n",
              "      <td>Good2</td>\n",
              "      <td>Effect of Ball Milling on the Electrochemical ...</td>\n",
              "      <td>Batteries</td>\n",
              "      <td>/content/drive/My Drive/modelnsc/Good2/5.png</td>\n",
              "      <td>original</td>\n",
              "      <td>401-3200</td>\n",
              "      <td>2448.00</td>\n",
              "      <td>10</td>\n",
              "    </tr>\n",
              "    <tr>\n",
              "      <th>1314</th>\n",
              "      <td>1315</td>\n",
              "      <td>1-s2.0-S0925963522003478-main</td>\n",
              "      <td>One-step production of N, S co-doped honeycomb...</td>\n",
              "      <td>Diamond &amp; Related Materials</td>\n",
              "      <td>/content/drive/My Drive/modelnsc/1-s2.0-S09259...</td>\n",
              "      <td>original</td>\n",
              "      <td>401-3200</td>\n",
              "      <td>818.00</td>\n",
              "      <td>10</td>\n",
              "    </tr>\n",
              "    <tr>\n",
              "      <th>1315</th>\n",
              "      <td>1316</td>\n",
              "      <td>1-s2.0-S0926669022000292-main</td>\n",
              "      <td>Low-cost activated carbon preparation from Cor...</td>\n",
              "      <td>Industrial Crops &amp; Products</td>\n",
              "      <td>/content/drive/My Drive/modelnsc/1-s2.0-S09266...</td>\n",
              "      <td>original</td>\n",
              "      <td>0-400</td>\n",
              "      <td>0.25</td>\n",
              "      <td>10</td>\n",
              "    </tr>\n",
              "    <tr>\n",
              "      <th>1316</th>\n",
              "      <td>1317</td>\n",
              "      <td>1-s2.0-S0926669022000292-main</td>\n",
              "      <td>Low-cost activated carbon preparation from Cor...</td>\n",
              "      <td>Industrial Crops &amp; Products</td>\n",
              "      <td>/content/drive/My Drive/modelnsc/1-s2.0-S09266...</td>\n",
              "      <td>original</td>\n",
              "      <td>0-400</td>\n",
              "      <td>35.00</td>\n",
              "      <td>10</td>\n",
              "    </tr>\n",
              "    <tr>\n",
              "      <th>1317</th>\n",
              "      <td>1318</td>\n",
              "      <td>1-s2.0-S0926669022000292-main</td>\n",
              "      <td>Low-cost activated carbon preparation from Cor...</td>\n",
              "      <td>Industrial Crops &amp; Products</td>\n",
              "      <td>/content/drive/My Drive/modelnsc/1-s2.0-S09266...</td>\n",
              "      <td>original</td>\n",
              "      <td>401-3200</td>\n",
              "      <td>583.00</td>\n",
              "      <td>10</td>\n",
              "    </tr>\n",
              "    <tr>\n",
              "      <th>1318</th>\n",
              "      <td>1319</td>\n",
              "      <td>1-s2.0-S0926669022000292-main</td>\n",
              "      <td>Low-cost activated carbon preparation from Cor...</td>\n",
              "      <td>Industrial Crops &amp; Products</td>\n",
              "      <td>/content/drive/My Drive/modelnsc/1-s2.0-S09266...</td>\n",
              "      <td>original</td>\n",
              "      <td>401-3200</td>\n",
              "      <td>820.00</td>\n",
              "      <td>10</td>\n",
              "    </tr>\n",
              "    <tr>\n",
              "      <th>1319</th>\n",
              "      <td>1320</td>\n",
              "      <td>1-s2.0-S0926669022000292-main</td>\n",
              "      <td>Low-cost activated carbon preparation from Cor...</td>\n",
              "      <td>Industrial Crops &amp; Products</td>\n",
              "      <td>/content/drive/My Drive/modelnsc/1-s2.0-S09266...</td>\n",
              "      <td>original</td>\n",
              "      <td>401-3200</td>\n",
              "      <td>589.00</td>\n",
              "      <td>10</td>\n",
              "    </tr>\n",
              "    <tr>\n",
              "      <th>1320</th>\n",
              "      <td>1321</td>\n",
              "      <td>1-s2.0-S0926669022000292-main</td>\n",
              "      <td>Low-cost activated carbon preparation from Cor...</td>\n",
              "      <td>Industrial Crops &amp; Products</td>\n",
              "      <td>/content/drive/My Drive/modelnsc/1-s2.0-S09266...</td>\n",
              "      <td>original</td>\n",
              "      <td>0-400</td>\n",
              "      <td>389.00</td>\n",
              "      <td>10</td>\n",
              "    </tr>\n",
              "    <tr>\n",
              "      <th>1321</th>\n",
              "      <td>1322</td>\n",
              "      <td>1-s2.0-S0926669022000292-main</td>\n",
              "      <td>Low-cost activated carbon preparation from Cor...</td>\n",
              "      <td>Industrial Crops &amp; Products</td>\n",
              "      <td>/content/drive/My Drive/modelnsc/1-s2.0-S09266...</td>\n",
              "      <td>original</td>\n",
              "      <td>0-400</td>\n",
              "      <td>11.00</td>\n",
              "      <td>10</td>\n",
              "    </tr>\n",
              "    <tr>\n",
              "      <th>1322</th>\n",
              "      <td>1323</td>\n",
              "      <td>new-sb</td>\n",
              "      <td>Biosugarcane-based carbon support for high- pe...</td>\n",
              "      <td>iScience</td>\n",
              "      <td>/content/drive/My Drive/modelnsc/new-sb/18.png</td>\n",
              "      <td>original</td>\n",
              "      <td>0-400</td>\n",
              "      <td>53.70</td>\n",
              "      <td>10</td>\n",
              "    </tr>\n",
              "    <tr>\n",
              "      <th>1323</th>\n",
              "      <td>1324</td>\n",
              "      <td>new-sb</td>\n",
              "      <td>Biosugarcane-based carbon support for high- pe...</td>\n",
              "      <td>iScience</td>\n",
              "      <td>/content/drive/My Drive/modelnsc/new-sb/19.png</td>\n",
              "      <td>original</td>\n",
              "      <td>0-400</td>\n",
              "      <td>34.30</td>\n",
              "      <td>10</td>\n",
              "    </tr>\n",
              "    <tr>\n",
              "      <th>1324</th>\n",
              "      <td>1325</td>\n",
              "      <td>new-sb</td>\n",
              "      <td>Biosugarcane-based carbon support for high- pe...</td>\n",
              "      <td>iScience</td>\n",
              "      <td>/content/drive/My Drive/modelnsc/new-sb/20.png</td>\n",
              "      <td>original</td>\n",
              "      <td>0-400</td>\n",
              "      <td>27.20</td>\n",
              "      <td>10</td>\n",
              "    </tr>\n",
              "    <tr>\n",
              "      <th>1325</th>\n",
              "      <td>1326</td>\n",
              "      <td>new-sb</td>\n",
              "      <td>Biosugarcane-based carbon support for high- pe...</td>\n",
              "      <td>iScience</td>\n",
              "      <td>/content/drive/My Drive/modelnsc/new-sb/21.png</td>\n",
              "      <td>original</td>\n",
              "      <td>0-400</td>\n",
              "      <td>24.00</td>\n",
              "      <td>10</td>\n",
              "    </tr>\n",
              "  </tbody>\n",
              "</table>\n",
              "</div>\n",
              "      <button class=\"colab-df-convert\" onclick=\"convertToInteractive('df-6c15bc43-5a57-4445-8023-7b7f93990f79')\"\n",
              "              title=\"Convert this dataframe to an interactive table.\"\n",
              "              style=\"display:none;\">\n",
              "        \n",
              "  <svg xmlns=\"http://www.w3.org/2000/svg\" height=\"24px\"viewBox=\"0 0 24 24\"\n",
              "       width=\"24px\">\n",
              "    <path d=\"M0 0h24v24H0V0z\" fill=\"none\"/>\n",
              "    <path d=\"M18.56 5.44l.94 2.06.94-2.06 2.06-.94-2.06-.94-.94-2.06-.94 2.06-2.06.94zm-11 1L8.5 8.5l.94-2.06 2.06-.94-2.06-.94L8.5 2.5l-.94 2.06-2.06.94zm10 10l.94 2.06.94-2.06 2.06-.94-2.06-.94-.94-2.06-.94 2.06-2.06.94z\"/><path d=\"M17.41 7.96l-1.37-1.37c-.4-.4-.92-.59-1.43-.59-.52 0-1.04.2-1.43.59L10.3 9.45l-7.72 7.72c-.78.78-.78 2.05 0 2.83L4 21.41c.39.39.9.59 1.41.59.51 0 1.02-.2 1.41-.59l7.78-7.78 2.81-2.81c.8-.78.8-2.07 0-2.86zM5.41 20L4 18.59l7.72-7.72 1.47 1.35L5.41 20z\"/>\n",
              "  </svg>\n",
              "      </button>\n",
              "      \n",
              "  <style>\n",
              "    .colab-df-container {\n",
              "      display:flex;\n",
              "      flex-wrap:wrap;\n",
              "      gap: 12px;\n",
              "    }\n",
              "\n",
              "    .colab-df-convert {\n",
              "      background-color: #E8F0FE;\n",
              "      border: none;\n",
              "      border-radius: 50%;\n",
              "      cursor: pointer;\n",
              "      display: none;\n",
              "      fill: #1967D2;\n",
              "      height: 32px;\n",
              "      padding: 0 0 0 0;\n",
              "      width: 32px;\n",
              "    }\n",
              "\n",
              "    .colab-df-convert:hover {\n",
              "      background-color: #E2EBFA;\n",
              "      box-shadow: 0px 1px 2px rgba(60, 64, 67, 0.3), 0px 1px 3px 1px rgba(60, 64, 67, 0.15);\n",
              "      fill: #174EA6;\n",
              "    }\n",
              "\n",
              "    [theme=dark] .colab-df-convert {\n",
              "      background-color: #3B4455;\n",
              "      fill: #D2E3FC;\n",
              "    }\n",
              "\n",
              "    [theme=dark] .colab-df-convert:hover {\n",
              "      background-color: #434B5C;\n",
              "      box-shadow: 0px 1px 3px 1px rgba(0, 0, 0, 0.15);\n",
              "      filter: drop-shadow(0px 1px 2px rgba(0, 0, 0, 0.3));\n",
              "      fill: #FFFFFF;\n",
              "    }\n",
              "  </style>\n",
              "\n",
              "      <script>\n",
              "        const buttonEl =\n",
              "          document.querySelector('#df-6c15bc43-5a57-4445-8023-7b7f93990f79 button.colab-df-convert');\n",
              "        buttonEl.style.display =\n",
              "          google.colab.kernel.accessAllowed ? 'block' : 'none';\n",
              "\n",
              "        async function convertToInteractive(key) {\n",
              "          const element = document.querySelector('#df-6c15bc43-5a57-4445-8023-7b7f93990f79');\n",
              "          const dataTable =\n",
              "            await google.colab.kernel.invokeFunction('convertToInteractive',\n",
              "                                                     [key], {});\n",
              "          if (!dataTable) return;\n",
              "\n",
              "          const docLinkHtml = 'Like what you see? Visit the ' +\n",
              "            '<a target=\"_blank\" href=https://colab.research.google.com/notebooks/data_table.ipynb>data table notebook</a>'\n",
              "            + ' to learn more about interactive tables.';\n",
              "          element.innerHTML = '';\n",
              "          dataTable['output_type'] = 'display_data';\n",
              "          await google.colab.output.renderOutput(dataTable, element);\n",
              "          const docLink = document.createElement('div');\n",
              "          docLink.innerHTML = docLinkHtml;\n",
              "          element.appendChild(docLink);\n",
              "        }\n",
              "      </script>\n",
              "    </div>\n",
              "  </div>\n",
              "  "
            ]
          },
          "metadata": {},
          "execution_count": 11
        }
      ]
    },
    {
      "cell_type": "code",
      "source": [
        "\n",
        "act = test['Class'].tolist()\n",
        "path = test['path_Picture'].tolist()"
      ],
      "metadata": {
        "id": "dYSyXx3YsG44"
      },
      "execution_count": 12,
      "outputs": []
    },
    {
      "cell_type": "code",
      "source": [
        "\n",
        "from tensorflow.keras.preprocessing import image\n",
        "\n",
        "def predict_image(img_path): #สร้างฟังก์ชัน \n",
        "    # Read the image and resize it\n",
        "    img = image.load_img(img_path, target_size=(height, width)) #รูปทุกรูปมีขนาดไม่เท่ากันจึงตั้งไว้ว่าเวลาจะให้ model ดึงรูปมาทำนายให้ดึงรูปเข้ามาตามขนาดที่ตั้งไว้ตาม พารามิตเตอร์\n",
        "    # Convert it to a Numpy array with target shape.\n",
        "    x = image.img_to_array(img) # model ไม่สามารถทำนายรูปภาพโดยตรงได้ จึงเเปลงรูปภาพให้เป็น array เเล้วให้โมเดลทำนาย\n",
        "    # Reshape\n",
        "    x = x.reshape((1,) + x.shape) # เพิ่ม ไดเมนชั่นของโมเดล ให้เป็น 4 ได้ เมนชั่น โดยที่ 1, คือบอกให้โมเดลนำเข้าทีละ 1 รูปเเล้วค่อยทำนาย เเละ + ไดเมนชั่น คือ 150 ,150 ,3(สีของ RGB)\n",
        "    x /= 255.\n",
        "    result = model.predict([x])\n",
        "    return result[0]"
      ],
      "metadata": {
        "id": "hOkweJgZsSMf"
      },
      "execution_count": 13,
      "outputs": []
    },
    {
      "cell_type": "code",
      "source": [
        "import numpy as np"
      ],
      "metadata": {
        "id": "wkvUuIFQsSKc"
      },
      "execution_count": 14,
      "outputs": []
    },
    {
      "cell_type": "code",
      "source": [
        "\n",
        "no = np.argmax(predict_image(path[0]))\n",
        "labels[no]"
      ],
      "metadata": {
        "colab": {
          "base_uri": "https://localhost:8080/",
          "height": 52
        },
        "id": "lo3NgINnsSH6",
        "outputId": "a0da7242-2b7d-41b8-d952-19470f298703"
      },
      "execution_count": 15,
      "outputs": [
        {
          "output_type": "stream",
          "name": "stdout",
          "text": [
            "1/1 [==============================] - 2s 2s/step\n"
          ]
        },
        {
          "output_type": "execute_result",
          "data": {
            "text/plain": [
              "'401-3200'"
            ],
            "application/vnd.google.colaboratory.intrinsic+json": {
              "type": "string"
            }
          },
          "metadata": {},
          "execution_count": 15
        }
      ]
    },
    {
      "cell_type": "code",
      "source": [
        "predict_image(path[1]) "
      ],
      "metadata": {
        "colab": {
          "base_uri": "https://localhost:8080/"
        },
        "id": "k-V4A5kYsUDA",
        "outputId": "7e97198a-1ae8-4759-99fa-83347a5410d8"
      },
      "execution_count": 16,
      "outputs": [
        {
          "output_type": "stream",
          "name": "stdout",
          "text": [
            "1/1 [==============================] - 0s 65ms/step\n"
          ]
        },
        {
          "output_type": "execute_result",
          "data": {
            "text/plain": [
              "array([0.86571985, 0.13428012], dtype=float32)"
            ]
          },
          "metadata": {},
          "execution_count": 16
        }
      ]
    },
    {
      "cell_type": "code",
      "source": [
        "np.argmax(predict_image(path[1]))"
      ],
      "metadata": {
        "colab": {
          "base_uri": "https://localhost:8080/"
        },
        "id": "6IO4Zt-tsUAx",
        "outputId": "fb462aad-334b-420e-da12-7a6235cd651c"
      },
      "execution_count": 17,
      "outputs": [
        {
          "output_type": "stream",
          "name": "stdout",
          "text": [
            "1/1 [==============================] - 0s 60ms/step\n"
          ]
        },
        {
          "output_type": "execute_result",
          "data": {
            "text/plain": [
              "0"
            ]
          },
          "metadata": {},
          "execution_count": 17
        }
      ]
    },
    {
      "cell_type": "code",
      "source": [
        "#Predict\n",
        "pred_list = list()\n",
        "prob_list = list()\n",
        "img_path= path\n",
        "for i in range(0,len(img_path)):\n",
        "    predict = predict_image(img_path[i])\n",
        "    result = np.argmax(predict)\n",
        "    pred_list.append(labels[result])\n",
        "    prob_list.append(predict[result])"
      ],
      "metadata": {
        "colab": {
          "base_uri": "https://localhost:8080/"
        },
        "id": "UJkUXQ56sT-r",
        "outputId": "55238631-4362-4286-a242-fb97c36252ba"
      },
      "execution_count": 18,
      "outputs": [
        {
          "output_type": "stream",
          "name": "stdout",
          "text": [
            "1/1 [==============================] - 0s 69ms/step\n",
            "1/1 [==============================] - 0s 66ms/step\n",
            "1/1 [==============================] - 0s 66ms/step\n",
            "1/1 [==============================] - 0s 62ms/step\n",
            "1/1 [==============================] - 0s 60ms/step\n",
            "1/1 [==============================] - 0s 54ms/step\n",
            "1/1 [==============================] - 0s 63ms/step\n",
            "1/1 [==============================] - 0s 53ms/step\n",
            "1/1 [==============================] - 0s 55ms/step\n",
            "1/1 [==============================] - 0s 57ms/step\n",
            "1/1 [==============================] - 0s 59ms/step\n",
            "1/1 [==============================] - 0s 53ms/step\n",
            "1/1 [==============================] - 0s 55ms/step\n",
            "1/1 [==============================] - 0s 57ms/step\n",
            "1/1 [==============================] - 0s 57ms/step\n",
            "1/1 [==============================] - 0s 66ms/step\n",
            "1/1 [==============================] - 0s 62ms/step\n"
          ]
        }
      ]
    },
    {
      "cell_type": "code",
      "source": [
        "result"
      ],
      "metadata": {
        "colab": {
          "base_uri": "https://localhost:8080/"
        },
        "id": "iUBtVp6GsT8p",
        "outputId": "ba53dfb8-a52a-42a1-a9fa-5e9605b9a8ce"
      },
      "execution_count": 19,
      "outputs": [
        {
          "output_type": "execute_result",
          "data": {
            "text/plain": [
              "0"
            ]
          },
          "metadata": {},
          "execution_count": 19
        }
      ]
    },
    {
      "cell_type": "code",
      "source": [
        "prob_list[0]"
      ],
      "metadata": {
        "colab": {
          "base_uri": "https://localhost:8080/"
        },
        "id": "mWL4nCZysT4p",
        "outputId": "41554193-eb3f-4079-b622-d9e7bdd8b055"
      },
      "execution_count": 20,
      "outputs": [
        {
          "output_type": "execute_result",
          "data": {
            "text/plain": [
              "0.5509991"
            ]
          },
          "metadata": {},
          "execution_count": 20
        }
      ]
    },
    {
      "cell_type": "code",
      "source": [
        "pred_list[0]"
      ],
      "metadata": {
        "colab": {
          "base_uri": "https://localhost:8080/",
          "height": 35
        },
        "id": "qSqjfiIhsYgP",
        "outputId": "a154e101-1567-443d-bb49-916528520180"
      },
      "execution_count": 21,
      "outputs": [
        {
          "output_type": "execute_result",
          "data": {
            "text/plain": [
              "'401-3200'"
            ],
            "application/vnd.google.colaboratory.intrinsic+json": {
              "type": "string"
            }
          },
          "metadata": {},
          "execution_count": 21
        }
      ]
    },
    {
      "cell_type": "code",
      "source": [
        "pred = np.array(pred_list)\n",
        "act = np.array(act)"
      ],
      "metadata": {
        "id": "7nbLPwhrsZM0"
      },
      "execution_count": 22,
      "outputs": []
    },
    {
      "cell_type": "code",
      "source": [
        "act"
      ],
      "metadata": {
        "colab": {
          "base_uri": "https://localhost:8080/"
        },
        "id": "WQ4KOJKxsZKN",
        "outputId": "57faabf7-1534-47ac-83c5-cfc001e9c49e"
      },
      "execution_count": 23,
      "outputs": [
        {
          "output_type": "execute_result",
          "data": {
            "text/plain": [
              "array(['401-3200', '401-3200', '401-3200', '401-3200', '401-3200',\n",
              "       '401-3200', '0-400', '0-400', '401-3200', '401-3200', '401-3200',\n",
              "       '0-400', '0-400', '0-400', '0-400', '0-400', '0-400'], dtype='<U8')"
            ]
          },
          "metadata": {},
          "execution_count": 23
        }
      ]
    },
    {
      "cell_type": "code",
      "source": [
        "pred"
      ],
      "metadata": {
        "colab": {
          "base_uri": "https://localhost:8080/"
        },
        "id": "DYioP7tqsbip",
        "outputId": "70c0e0ee-eb8e-447a-8342-d5626e427497"
      },
      "execution_count": 24,
      "outputs": [
        {
          "output_type": "execute_result",
          "data": {
            "text/plain": [
              "array(['401-3200', '0-400', '0-400', '401-3200', '401-3200', '401-3200',\n",
              "       '0-400', '0-400', '401-3200', '401-3200', '0-400', '401-3200',\n",
              "       '0-400', '0-400', '0-400', '0-400', '0-400'], dtype='<U8')"
            ]
          },
          "metadata": {},
          "execution_count": 24
        }
      ]
    },
    {
      "cell_type": "code",
      "source": [
        "import numpy as np\n",
        "from sklearn.metrics import confusion_matrix\n",
        "\n",
        "# act = data_train['class'].array\n",
        "# pred = data_train['category_ov'].array\n",
        "\n",
        "cmat = confusion_matrix(act, pred)\n",
        "print('classifier accuracy = {}%'.format((100.*np.trace(cmat))/(np.sum(cmat))))\n",
        "\n",
        "#Marking the Confusion Matrix\n",
        "from sklearn.metrics import classification_report,confusion_matrix\n",
        "print(classification_report(act, pred))#performance"
      ],
      "metadata": {
        "colab": {
          "base_uri": "https://localhost:8080/"
        },
        "id": "GShtBTB5sdnY",
        "outputId": "5c401665-e29f-4441-811b-923288fa755c"
      },
      "execution_count": 25,
      "outputs": [
        {
          "output_type": "stream",
          "name": "stdout",
          "text": [
            "classifier accuracy = 76.47058823529412%\n",
            "              precision    recall  f1-score   support\n",
            "\n",
            "       0-400       0.70      0.88      0.78         8\n",
            "    401-3200       0.86      0.67      0.75         9\n",
            "\n",
            "    accuracy                           0.76        17\n",
            "   macro avg       0.78      0.77      0.76        17\n",
            "weighted avg       0.78      0.76      0.76        17\n",
            "\n"
          ]
        }
      ]
    },
    {
      "cell_type": "code",
      "source": [
        "#create CF \n",
        "data = {'Actual': act,'Predicted' : pred,}\n",
        "df = pd.DataFrame(data, columns=['Actual','Predicted'])\n",
        "conf_mat = pd.crosstab(df['Actual'],df['Predicted'],rownames=['Actual'],colnames=['Predicted'])\n",
        "\n",
        "#Confusion matrix\n",
        "from sklearn.metrics import confusion_matrix\n",
        "import matplotlib.pyplot as plt\n",
        "cm = confusion_matrix(act, pred)\n",
        "\n",
        "#plot Confusion matrix\n",
        "import seaborn as sns\n",
        "sns.set()\n",
        "fig, ax = plt.subplots(figsize=(8, 5))\n",
        "\n",
        "ax = sns.heatmap(conf_mat, annot=True, fmt=\"d\", cmap=\"YlGnBu\") #Blues,Oranges,Reds\n",
        "ax.set_title('Confusion matrix',fontsize=20)\n",
        "ax.set_ylabel('True label',fontsize=18)\n",
        "ax.set_xlabel('Predicted label',fontsize=18)"
      ],
      "metadata": {
        "colab": {
          "base_uri": "https://localhost:8080/",
          "height": 527
        },
        "id": "upIAmF50sdkw",
        "outputId": "2c586b72-cb1a-4e53-c67f-9b7f3ff3b5e9"
      },
      "execution_count": 26,
      "outputs": [
        {
          "output_type": "execute_result",
          "data": {
            "text/plain": [
              "Text(0.5, 21.249999999999993, 'Predicted label')"
            ]
          },
          "metadata": {},
          "execution_count": 26
        },
        {
          "output_type": "display_data",
          "data": {
            "text/plain": [
              "<Figure size 800x500 with 2 Axes>"
            ],
            "image/png": "[encoded data removed]"
          },
          "metadata": {}
        }
      ]
    },
    {
      "cell_type": "code",
      "source": [],
      "metadata": {
        "id": "pZSNLVovsdiK"
      },
      "execution_count": 26,
      "outputs": []
    }
  ]
}