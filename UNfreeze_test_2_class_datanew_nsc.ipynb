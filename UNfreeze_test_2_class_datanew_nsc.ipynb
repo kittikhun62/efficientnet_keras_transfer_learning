{
  "nbformat": 4,
  "nbformat_minor": 0,
  "metadata": {
    "colab": {
      "provenance": [],
      "machine_shape": "hm",
      "authorship_tag": "ABX9TyP5zLp379NCWFkAjA4hEQQs",
      "include_colab_link": true
    },
    "kernelspec": {
      "name": "python3",
      "display_name": "Python 3"
    },
    "language_info": {
      "name": "python"
    },
    "gpuClass": "standard"
  },
  "cells": [
    {
      "cell_type": "markdown",
      "metadata": {
        "id": "view-in-github",
        "colab_type": "text"
      },
      "source": [
        "<a href=\"https://colab.research.google.com/github/kittikhun62/efficientnet_keras_transfer_learning/blob/master/UNfreeze_test_2_class_datanew_nsc.ipynb\" target=\"_parent\"><img src=\"https://colab.research.google.com/assets/colab-badge.svg\" alt=\"Open In Colab\"/></a>"
      ]
    },
    {
      "cell_type": "code",
      "execution_count": null,
      "metadata": {
        "colab": {
          "base_uri": "https://localhost:8080/"
        },
        "id": "EoORup2fr1UL",
        "outputId": "319b5f70-a71e-4972-bc49-cd1a99b9d6bc"
      },
      "outputs": [
        {
          "output_type": "stream",
          "name": "stdout",
          "text": [
            "Mounted at /content/drive\n"
          ]
        }
      ],
      "source": [
        "from google.colab import drive\n",
        "drive.mount('/content/drive')\n",
        "import pandas as pd"
      ]
    },
    {
      "cell_type": "code",
      "source": [
        "import os\n",
        "%cd /content\n",
        "if not os.path.isdir(\"efficientnet_keras_transfer_learning\"):\n",
        " !git clone https://github.com/Wanita-8943/efficientnet_keras_transfer_learning\n",
        "%cd efficientnet_keras_transfer_learning/"
      ],
      "metadata": {
        "colab": {
          "base_uri": "https://localhost:8080/"
        },
        "id": "_bjlFi2Sr-rk",
        "outputId": "a04bd8ad-c2ce-41e6-a05a-e2feb3512320"
      },
      "execution_count": null,
      "outputs": [
        {
          "output_type": "stream",
          "name": "stdout",
          "text": [
            "/content\n",
            "Cloning into 'efficientnet_keras_transfer_learning'...\n",
            "remote: Enumerating objects: 1100, done.\u001b[K\n",
            "remote: Counting objects: 100% (263/263), done.\u001b[K\n",
            "remote: Compressing objects: 100% (142/142), done.\u001b[K\n",
            "remote: Total 1100 (delta 133), reused 241 (delta 121), pack-reused 837\u001b[K\n",
            "Receiving objects: 100% (1100/1100), 14.10 MiB | 16.77 MiB/s, done.\n",
            "Resolving deltas: 100% (630/630), done.\n",
            "/content/efficientnet_keras_transfer_learning\n"
          ]
        }
      ]
    },
    {
      "cell_type": "code",
      "source": [
        "\n",
        "df = pd.read_csv (r'/content/drive/My Drive/data_nsc - ใช้อันนี้เทรน.csv')\n",
        "df"
      ],
      "metadata": {
        "colab": {
          "base_uri": "https://localhost:8080/",
          "height": 1000
        },
        "id": "qNioe-cRr-pe",
        "outputId": "3b7dbc41-0d09-4986-928c-3547beb62fc8"
      },
      "execution_count": null,
      "outputs": [
        {
          "output_type": "execute_result",
          "data": {
            "text/plain": [
              "        No                                          Name_file  \\\n",
              "0        1  /content/drive/My Drive/modelnsc/acssuschemeng...   \n",
              "1        2  /content/drive/My Drive/modelnsc/acssuschemeng...   \n",
              "2        3  /content/drive/My Drive/modelnsc/acssuschemeng...   \n",
              "3        4  /content/drive/My Drive/modelnsc/acssuschemeng...   \n",
              "4        5  /content/drive/My Drive/modelnsc/acssuschemeng...   \n",
              "...    ...                                                ...   \n",
              "1321  1322                      1-s2.0-S0926669022000292-main   \n",
              "1322  1323                      1-s2.0-S0926669022000292-main   \n",
              "1323  1324                      1-s2.0-S0926669022000292-main   \n",
              "1324  1325                      1-s2.0-S0926669022000292-main   \n",
              "1325  1326                      1-s2.0-S0926669022000292-main   \n",
              "\n",
              "                                             Name_Paper  \\\n",
              "0     Sugarcane Biowaste-Derived Biochars as Capacit...   \n",
              "1     Sugarcane Biowaste-Derived Biochars as Capacit...   \n",
              "2     Sugarcane Biowaste-Derived Biochars as Capacit...   \n",
              "3     Sugarcane Biowaste-Derived Biochars as Capacit...   \n",
              "4     Sugarcane Biowaste-Derived Biochars as Capacit...   \n",
              "...                                                 ...   \n",
              "1321  Low-cost activated carbon preparation from Cor...   \n",
              "1322  Low-cost activated carbon preparation from Cor...   \n",
              "1323  Low-cost activated carbon preparation from Cor...   \n",
              "1324  Low-cost activated carbon preparation from Cor...   \n",
              "1325  Low-cost activated carbon preparation from Cor...   \n",
              "\n",
              "                                journal  \\\n",
              "0     Sustainable Chemistry&Engineering   \n",
              "1     Sustainable Chemistry&Engineering   \n",
              "2     Sustainable Chemistry&Engineering   \n",
              "3     Sustainable Chemistry&Engineering   \n",
              "4     Sustainable Chemistry&Engineering   \n",
              "...                                 ...   \n",
              "1321        Industrial Crops & Products   \n",
              "1322        Industrial Crops & Products   \n",
              "1323        Industrial Crops & Products   \n",
              "1324        Industrial Crops & Products   \n",
              "1325        Industrial Crops & Products   \n",
              "\n",
              "                                           path_Picture    detail     Class  \\\n",
              "0     /content/drive/My Drive/modelnsc/acssuschemeng...  original     0-400   \n",
              "1     /content/drive/My Drive/modelnsc/acssuschemeng...   resize1     0-400   \n",
              "2     /content/drive/My Drive/modelnsc/acssuschemeng...   resize2     0-400   \n",
              "3     /content/drive/My Drive/modelnsc/acssuschemeng...   resize3     0-400   \n",
              "4     /content/drive/My Drive/modelnsc/acssuschemeng...   resize4     0-400   \n",
              "...                                                 ...       ...       ...   \n",
              "1321  /content/drive/My Drive/modelnsc/1-s2.0-S09266...  original  401-3200   \n",
              "1322  /content/drive/My Drive/modelnsc/1-s2.0-S09266...  original  401-3200   \n",
              "1323  /content/drive/My Drive/modelnsc/1-s2.0-S09266...  original  401-3200   \n",
              "1324  /content/drive/My Drive/modelnsc/1-s2.0-S09266...  original     0-400   \n",
              "1325  /content/drive/My Drive/modelnsc/1-s2.0-S09266...  original     0-400   \n",
              "\n",
              "        BET  Size(mico)  \n",
              "0     240.0          10  \n",
              "1     240.0          20  \n",
              "2     240.0          20  \n",
              "3     240.0          20  \n",
              "4     240.0          20  \n",
              "...     ...         ...  \n",
              "1321  583.0          10  \n",
              "1322  820.0          10  \n",
              "1323  589.0          10  \n",
              "1324  389.0          10  \n",
              "1325   11.0          10  \n",
              "\n",
              "[1326 rows x 9 columns]"
            ],
            "text/html": [
              "\n",
              "  <div id=\"df-fdbcc9b5-3a8d-4d4f-a4aa-3b8689333b1a\">\n",
              "    <div class=\"colab-df-container\">\n",
              "      <div>\n",
              "<style scoped>\n",
              "    .dataframe tbody tr th:only-of-type {\n",
              "        vertical-align: middle;\n",
              "    }\n",
              "\n",
              "    .dataframe tbody tr th {\n",
              "        vertical-align: top;\n",
              "    }\n",
              "\n",
              "    .dataframe thead th {\n",
              "        text-align: right;\n",
              "    }\n",
              "</style>\n",
              "<table border=\"1\" class=\"dataframe\">\n",
              "  <thead>\n",
              "    <tr style=\"text-align: right;\">\n",
              "      <th></th>\n",
              "      <th>No</th>\n",
              "      <th>Name_file</th>\n",
              "      <th>Name_Paper</th>\n",
              "      <th>journal</th>\n",
              "      <th>path_Picture</th>\n",
              "      <th>detail</th>\n",
              "      <th>Class</th>\n",
              "      <th>BET</th>\n",
              "      <th>Size(mico)</th>\n",
              "    </tr>\n",
              "  </thead>\n",
              "  <tbody>\n",
              "    <tr>\n",
              "      <th>0</th>\n",
              "      <td>1</td>\n",
              "      <td>/content/drive/My Drive/modelnsc/acssuschemeng...</td>\n",
              "      <td>Sugarcane Biowaste-Derived Biochars as Capacit...</td>\n",
              "      <td>Sustainable Chemistry&amp;Engineering</td>\n",
              "      <td>/content/drive/My Drive/modelnsc/acssuschemeng...</td>\n",
              "      <td>original</td>\n",
              "      <td>0-400</td>\n",
              "      <td>240.0</td>\n",
              "      <td>10</td>\n",
              "    </tr>\n",
              "    <tr>\n",
              "      <th>1</th>\n",
              "      <td>2</td>\n",
              "      <td>/content/drive/My Drive/modelnsc/acssuschemeng...</td>\n",
              "      <td>Sugarcane Biowaste-Derived Biochars as Capacit...</td>\n",
              "      <td>Sustainable Chemistry&amp;Engineering</td>\n",
              "      <td>/content/drive/My Drive/modelnsc/acssuschemeng...</td>\n",
              "      <td>resize1</td>\n",
              "      <td>0-400</td>\n",
              "      <td>240.0</td>\n",
              "      <td>20</td>\n",
              "    </tr>\n",
              "    <tr>\n",
              "      <th>2</th>\n",
              "      <td>3</td>\n",
              "      <td>/content/drive/My Drive/modelnsc/acssuschemeng...</td>\n",
              "      <td>Sugarcane Biowaste-Derived Biochars as Capacit...</td>\n",
              "      <td>Sustainable Chemistry&amp;Engineering</td>\n",
              "      <td>/content/drive/My Drive/modelnsc/acssuschemeng...</td>\n",
              "      <td>resize2</td>\n",
              "      <td>0-400</td>\n",
              "      <td>240.0</td>\n",
              "      <td>20</td>\n",
              "    </tr>\n",
              "    <tr>\n",
              "      <th>3</th>\n",
              "      <td>4</td>\n",
              "      <td>/content/drive/My Drive/modelnsc/acssuschemeng...</td>\n",
              "      <td>Sugarcane Biowaste-Derived Biochars as Capacit...</td>\n",
              "      <td>Sustainable Chemistry&amp;Engineering</td>\n",
              "      <td>/content/drive/My Drive/modelnsc/acssuschemeng...</td>\n",
              "      <td>resize3</td>\n",
              "      <td>0-400</td>\n",
              "      <td>240.0</td>\n",
              "      <td>20</td>\n",
              "    </tr>\n",
              "    <tr>\n",
              "      <th>4</th>\n",
              "      <td>5</td>\n",
              "      <td>/content/drive/My Drive/modelnsc/acssuschemeng...</td>\n",
              "      <td>Sugarcane Biowaste-Derived Biochars as Capacit...</td>\n",
              "      <td>Sustainable Chemistry&amp;Engineering</td>\n",
              "      <td>/content/drive/My Drive/modelnsc/acssuschemeng...</td>\n",
              "      <td>resize4</td>\n",
              "      <td>0-400</td>\n",
              "      <td>240.0</td>\n",
              "      <td>20</td>\n",
              "    </tr>\n",
              "    <tr>\n",
              "      <th>...</th>\n",
              "      <td>...</td>\n",
              "      <td>...</td>\n",
              "      <td>...</td>\n",
              "      <td>...</td>\n",
              "      <td>...</td>\n",
              "      <td>...</td>\n",
              "      <td>...</td>\n",
              "      <td>...</td>\n",
              "      <td>...</td>\n",
              "    </tr>\n",
              "    <tr>\n",
              "      <th>1321</th>\n",
              "      <td>1322</td>\n",
              "      <td>1-s2.0-S0926669022000292-main</td>\n",
              "      <td>Low-cost activated carbon preparation from Cor...</td>\n",
              "      <td>Industrial Crops &amp; Products</td>\n",
              "      <td>/content/drive/My Drive/modelnsc/1-s2.0-S09266...</td>\n",
              "      <td>original</td>\n",
              "      <td>401-3200</td>\n",
              "      <td>583.0</td>\n",
              "      <td>10</td>\n",
              "    </tr>\n",
              "    <tr>\n",
              "      <th>1322</th>\n",
              "      <td>1323</td>\n",
              "      <td>1-s2.0-S0926669022000292-main</td>\n",
              "      <td>Low-cost activated carbon preparation from Cor...</td>\n",
              "      <td>Industrial Crops &amp; Products</td>\n",
              "      <td>/content/drive/My Drive/modelnsc/1-s2.0-S09266...</td>\n",
              "      <td>original</td>\n",
              "      <td>401-3200</td>\n",
              "      <td>820.0</td>\n",
              "      <td>10</td>\n",
              "    </tr>\n",
              "    <tr>\n",
              "      <th>1323</th>\n",
              "      <td>1324</td>\n",
              "      <td>1-s2.0-S0926669022000292-main</td>\n",
              "      <td>Low-cost activated carbon preparation from Cor...</td>\n",
              "      <td>Industrial Crops &amp; Products</td>\n",
              "      <td>/content/drive/My Drive/modelnsc/1-s2.0-S09266...</td>\n",
              "      <td>original</td>\n",
              "      <td>401-3200</td>\n",
              "      <td>589.0</td>\n",
              "      <td>10</td>\n",
              "    </tr>\n",
              "    <tr>\n",
              "      <th>1324</th>\n",
              "      <td>1325</td>\n",
              "      <td>1-s2.0-S0926669022000292-main</td>\n",
              "      <td>Low-cost activated carbon preparation from Cor...</td>\n",
              "      <td>Industrial Crops &amp; Products</td>\n",
              "      <td>/content/drive/My Drive/modelnsc/1-s2.0-S09266...</td>\n",
              "      <td>original</td>\n",
              "      <td>0-400</td>\n",
              "      <td>389.0</td>\n",
              "      <td>10</td>\n",
              "    </tr>\n",
              "    <tr>\n",
              "      <th>1325</th>\n",
              "      <td>1326</td>\n",
              "      <td>1-s2.0-S0926669022000292-main</td>\n",
              "      <td>Low-cost activated carbon preparation from Cor...</td>\n",
              "      <td>Industrial Crops &amp; Products</td>\n",
              "      <td>/content/drive/My Drive/modelnsc/1-s2.0-S09266...</td>\n",
              "      <td>original</td>\n",
              "      <td>0-400</td>\n",
              "      <td>11.0</td>\n",
              "      <td>10</td>\n",
              "    </tr>\n",
              "  </tbody>\n",
              "</table>\n",
              "<p>1326 rows × 9 columns</p>\n",
              "</div>\n",
              "      <button class=\"colab-df-convert\" onclick=\"convertToInteractive('df-fdbcc9b5-3a8d-4d4f-a4aa-3b8689333b1a')\"\n",
              "              title=\"Convert this dataframe to an interactive table.\"\n",
              "              style=\"display:none;\">\n",
              "        \n",
              "  <svg xmlns=\"http://www.w3.org/2000/svg\" height=\"24px\"viewBox=\"0 0 24 24\"\n",
              "       width=\"24px\">\n",
              "    <path d=\"M0 0h24v24H0V0z\" fill=\"none\"/>\n",
              "    <path d=\"M18.56 5.44l.94 2.06.94-2.06 2.06-.94-2.06-.94-.94-2.06-.94 2.06-2.06.94zm-11 1L8.5 8.5l.94-2.06 2.06-.94-2.06-.94L8.5 2.5l-.94 2.06-2.06.94zm10 10l.94 2.06.94-2.06 2.06-.94-2.06-.94-.94-2.06-.94 2.06-2.06.94z\"/><path d=\"M17.41 7.96l-1.37-1.37c-.4-.4-.92-.59-1.43-.59-.52 0-1.04.2-1.43.59L10.3 9.45l-7.72 7.72c-.78.78-.78 2.05 0 2.83L4 21.41c.39.39.9.59 1.41.59.51 0 1.02-.2 1.41-.59l7.78-7.78 2.81-2.81c.8-.78.8-2.07 0-2.86zM5.41 20L4 18.59l7.72-7.72 1.47 1.35L5.41 20z\"/>\n",
              "  </svg>\n",
              "      </button>\n",
              "      \n",
              "  <style>\n",
              "    .colab-df-container {\n",
              "      display:flex;\n",
              "      flex-wrap:wrap;\n",
              "      gap: 12px;\n",
              "    }\n",
              "\n",
              "    .colab-df-convert {\n",
              "      background-color: #E8F0FE;\n",
              "      border: none;\n",
              "      border-radius: 50%;\n",
              "      cursor: pointer;\n",
              "      display: none;\n",
              "      fill: #1967D2;\n",
              "      height: 32px;\n",
              "      padding: 0 0 0 0;\n",
              "      width: 32px;\n",
              "    }\n",
              "\n",
              "    .colab-df-convert:hover {\n",
              "      background-color: #E2EBFA;\n",
              "      box-shadow: 0px 1px 2px rgba(60, 64, 67, 0.3), 0px 1px 3px 1px rgba(60, 64, 67, 0.15);\n",
              "      fill: #174EA6;\n",
              "    }\n",
              "\n",
              "    [theme=dark] .colab-df-convert {\n",
              "      background-color: #3B4455;\n",
              "      fill: #D2E3FC;\n",
              "    }\n",
              "\n",
              "    [theme=dark] .colab-df-convert:hover {\n",
              "      background-color: #434B5C;\n",
              "      box-shadow: 0px 1px 3px 1px rgba(0, 0, 0, 0.15);\n",
              "      filter: drop-shadow(0px 1px 2px rgba(0, 0, 0, 0.3));\n",
              "      fill: #FFFFFF;\n",
              "    }\n",
              "  </style>\n",
              "\n",
              "      <script>\n",
              "        const buttonEl =\n",
              "          document.querySelector('#df-fdbcc9b5-3a8d-4d4f-a4aa-3b8689333b1a button.colab-df-convert');\n",
              "        buttonEl.style.display =\n",
              "          google.colab.kernel.accessAllowed ? 'block' : 'none';\n",
              "\n",
              "        async function convertToInteractive(key) {\n",
              "          const element = document.querySelector('#df-fdbcc9b5-3a8d-4d4f-a4aa-3b8689333b1a');\n",
              "          const dataTable =\n",
              "            await google.colab.kernel.invokeFunction('convertToInteractive',\n",
              "                                                     [key], {});\n",
              "          if (!dataTable) return;\n",
              "\n",
              "          const docLinkHtml = 'Like what you see? Visit the ' +\n",
              "            '<a target=\"_blank\" href=https://colab.research.google.com/notebooks/data_table.ipynb>data table notebook</a>'\n",
              "            + ' to learn more about interactive tables.';\n",
              "          element.innerHTML = '';\n",
              "          dataTable['output_type'] = 'display_data';\n",
              "          await google.colab.output.renderOutput(dataTable, element);\n",
              "          const docLink = document.createElement('div');\n",
              "          docLink.innerHTML = docLinkHtml;\n",
              "          element.appendChild(docLink);\n",
              "        }\n",
              "      </script>\n",
              "    </div>\n",
              "  </div>\n",
              "  "
            ]
          },
          "metadata": {},
          "execution_count": 3
        }
      ]
    },
    {
      "cell_type": "code",
      "source": [
        "import sys\n",
        "sys.path.append('/content/drive/My Drive/new/nsc2.h5')\n",
        "\n",
        "from efficientnet.layers import Swish, DropConnect\n",
        "from efficientnet.model import ConvKernalInitializer\n",
        "from tensorflow.keras.utils import get_custom_objects\n",
        "\n",
        "get_custom_objects().update({\n",
        "    'ConvKernalInitializer': ConvKernalInitializer,\n",
        "    'Swish': Swish,\n",
        "    'DropConnect':DropConnect\n",
        "})"
      ],
      "metadata": {
        "id": "-lYn9i_yr-nR"
      },
      "execution_count": null,
      "outputs": []
    },
    {
      "cell_type": "code",
      "source": [
        "#load model \n",
        "from tensorflow.keras.models import load_model\n",
        "model = load_model('/content/drive/My Drive/new/nsc2.h5')\n",
        "height = width = model.input_shape[1]"
      ],
      "metadata": {
        "colab": {
          "base_uri": "https://localhost:8080/"
        },
        "id": "yFJ0d-Xpr-lC",
        "outputId": "2e3788d4-e4f0-447f-abe9-92df57c4bb14"
      },
      "execution_count": null,
      "outputs": [
        {
          "output_type": "stream",
          "name": "stderr",
          "text": [
            "WARNING:tensorflow:Error in loading the saved optimizer state. As a result, your model is starting with a freshly initialized optimizer.\n"
          ]
        }
      ]
    },
    {
      "cell_type": "code",
      "source": [
        "base_dir = '/content/drive/My Drive/modeldatansc'\n",
        "os.makedirs(base_dir, exist_ok=True)\n",
        "\n",
        "# Directories for our training,\n",
        "# validation and test splits\n",
        "train_dir = os.path.join(base_dir, 'train')\n",
        "os.makedirs(train_dir, exist_ok=True)\n",
        "validation_dir = os.path.join(base_dir, 'validation')\n",
        "os.makedirs(validation_dir, exist_ok=True)\n",
        "test_dir = os.path.join(base_dir, 'test')\n",
        "os.makedirs(test_dir, exist_ok=True)"
      ],
      "metadata": {
        "id": "FxC7bQMosG_Y"
      },
      "execution_count": null,
      "outputs": []
    },
    {
      "cell_type": "code",
      "source": [
        "batch_size = 16\n",
        "\n",
        "from tensorflow.keras.preprocessing.image import ImageDataGenerator\n",
        "\n",
        "train_datagen = ImageDataGenerator(\n",
        "      rescale=1./255, # image input 0-255 --> 0-1 เปลี่ยนค่าสี\n",
        "      rotation_range=40,# หมุนภาพในองศา\n",
        "      width_shift_range=0.2, #เปลี่ยนความกว้าง\n",
        "      height_shift_range=0.2, #ปลี่ยนความสูง\n",
        "      shear_range=0.2, #ทำให้ภาพเบี้ยว\n",
        "      zoom_range=0.2, # Randomly zoom image\n",
        "      horizontal_flip=True, \n",
        "      #โดย Default เมื่อมีการเลื่อนภาพ บิดภาพ หมุนภาพ จะเกิดพื้นที่ว่างที่มุม \n",
        "      #ซึ่งจะมีการเติมภาพให้เต็มโดยใช้เทคนิคแบบ Nearest neighbor ซึ่งเป็นการดึงสีบริเวณใหล้าเคียงมาระบายให้เต็ม แต่เราก็ยังสามารถกำหนดวิธีการ Fill ภาพด้วยเทคนิคอื่นได้จาก Parameter fill_mode\n",
        "      fill_mode='nearest')\n",
        "# Note that the validation data should not be augmented!\n",
        "test_datagen = ImageDataGenerator(rescale=1./255)\n",
        "\n",
        "train_generator = train_datagen.flow_from_directory(\n",
        "        # This is the target directory #ไดเรกเป้าหมาย\n",
        "        train_dir,\n",
        "        # รูปภาพทั้งหมดจะถูกปรับขนาดตามความสูงและความกว้างของเป้าหมาย\n",
        "        target_size=(height, width),\n",
        "        batch_size=batch_size,\n",
        "        # Since we use categorical_crossentropy loss, we need categorical labels\n",
        "        #เนื่องจากเราใช้ categorical_crossentropy loss เราจึงต้องมีป้ายกำกับตามหมวดหมู่\n",
        "        class_mode='categorical')\n",
        "\n",
        "validation_generator = test_datagen.flow_from_directory( #การดึงภาพจาก Directory มาเข้าโมเดล \n",
        "        validation_dir,\n",
        "        target_size=(height, width),\n",
        "        batch_size=batch_size,\n",
        "        class_mode='categorical')\n",
        "     \n",
        "\n",
        "#label\n",
        "labels = (train_generator.class_indices)\n",
        "labels = dict((v,k) for k,v in labels.items())\n",
        "print(labels)"
      ],
      "metadata": {
        "colab": {
          "base_uri": "https://localhost:8080/"
        },
        "id": "T0pkMENlsG9P",
        "outputId": "9dc17d82-1065-4b4e-e1cb-9558c496b805"
      },
      "execution_count": null,
      "outputs": [
        {
          "output_type": "stream",
          "name": "stdout",
          "text": [
            "Found 1272 images belonging to 2 classes.\n",
            "Found 22 images belonging to 2 classes.\n",
            "{0: '0-400', 1: '401-3200'}\n"
          ]
        }
      ]
    },
    {
      "cell_type": "code",
      "source": [
        "test = df[df['No'].between(1305,1325)] \n",
        "test"
      ],
      "metadata": {
        "colab": {
          "base_uri": "https://localhost:8080/",
          "height": 1000
        },
        "id": "u63pphsfsG67",
        "outputId": "5427e393-e5b0-45f6-9059-88ff6e04887f"
      },
      "execution_count": null,
      "outputs": [
        {
          "output_type": "execute_result",
          "data": {
            "text/plain": [
              "        No                      Name_file  \\\n",
              "1304  1305                          Good2   \n",
              "1305  1306                          Good2   \n",
              "1306  1307                          Good2   \n",
              "1307  1308                          Good2   \n",
              "1308  1309  1-s2.0-S2352152X22008957-main   \n",
              "1309  1310  1-s2.0-S2352152X22008957-main   \n",
              "1310  1311  1-s2.0-S2352152X22008957-main   \n",
              "1311  1312  1-s2.0-S2352152X22008957-main   \n",
              "1312  1313  1-s2.0-S2352152X22008957-main   \n",
              "1313  1314  1-s2.0-S2352152X22008957-main   \n",
              "1314  1315  1-s2.0-S2352152X22008957-main   \n",
              "1315  1316  1-s2.0-S2352152X22008957-main   \n",
              "1316  1317  1-s2.0-S2352152X22008969-main   \n",
              "1317  1318  1-s2.0-S2352152X22008969-main   \n",
              "1318  1319  1-s2.0-S2352152X22008969-main   \n",
              "1319  1320  1-s2.0-S0926669022000292-main   \n",
              "1320  1321  1-s2.0-S0926669022000292-main   \n",
              "1321  1322  1-s2.0-S0926669022000292-main   \n",
              "1322  1323  1-s2.0-S0926669022000292-main   \n",
              "1323  1324  1-s2.0-S0926669022000292-main   \n",
              "1324  1325  1-s2.0-S0926669022000292-main   \n",
              "\n",
              "                                             Name_Paper  \\\n",
              "1304  Effect of Ball Milling on the Electrochemical ...   \n",
              "1305  Effect of Ball Milling on the Electrochemical ...   \n",
              "1306  Effect of Ball Milling on the Electrochemical ...   \n",
              "1307  Effect of Ball Milling on the Electrochemical ...   \n",
              "1308  Activated carbons obtained by environmentally ...   \n",
              "1309  Activated carbons obtained by environmentally ...   \n",
              "1310  Activated carbons obtained by environmentally ...   \n",
              "1311  Activated carbons obtained by environmentally ...   \n",
              "1312  Activated carbons obtained by environmentally ...   \n",
              "1313  Activated carbons obtained by environmentally ...   \n",
              "1314  Activated carbons obtained by environmentally ...   \n",
              "1315  Activated carbons obtained by environmentally ...   \n",
              "1316  Three-dimensional high graphitic porous biomas...   \n",
              "1317  Three-dimensional high graphitic porous biomas...   \n",
              "1318  Three-dimensional high graphitic porous biomas...   \n",
              "1319  Low-cost activated carbon preparation from Cor...   \n",
              "1320  Low-cost activated carbon preparation from Cor...   \n",
              "1321  Low-cost activated carbon preparation from Cor...   \n",
              "1322  Low-cost activated carbon preparation from Cor...   \n",
              "1323  Low-cost activated carbon preparation from Cor...   \n",
              "1324  Low-cost activated carbon preparation from Cor...   \n",
              "\n",
              "                          journal  \\\n",
              "1304                    Batteries   \n",
              "1305                    Batteries   \n",
              "1306                    Batteries   \n",
              "1307                    Batteries   \n",
              "1308    Journal of Energy Storage   \n",
              "1309    Journal of Energy Storage   \n",
              "1310    Journal of Energy Storage   \n",
              "1311    Journal of Energy Storage   \n",
              "1312    Journal of Energy Storage   \n",
              "1313    Journal of Energy Storage   \n",
              "1314    Journal of Energy Storage   \n",
              "1315    Journal of Energy Storage   \n",
              "1316    Journal of Energy Storage   \n",
              "1317    Journal of Energy Storage   \n",
              "1318    Journal of Energy Storage   \n",
              "1319  Industrial Crops & Products   \n",
              "1320  Industrial Crops & Products   \n",
              "1321  Industrial Crops & Products   \n",
              "1322  Industrial Crops & Products   \n",
              "1323  Industrial Crops & Products   \n",
              "1324  Industrial Crops & Products   \n",
              "\n",
              "                                           path_Picture    detail     Class  \\\n",
              "1304       /content/drive/My Drive/modelnsc/Good2/2.png  original  401-3200   \n",
              "1305       /content/drive/My Drive/modelnsc/Good2/3.png  original  401-3200   \n",
              "1306       /content/drive/My Drive/modelnsc/Good2/4.png  original  401-3200   \n",
              "1307       /content/drive/My Drive/modelnsc/Good2/5.png  original  401-3200   \n",
              "1308  /content/drive/My Drive/modelnsc/1-s2.0-S23521...  original  401-3200   \n",
              "1309  /content/drive/My Drive/modelnsc/1-s2.0-S23521...  original  401-3200   \n",
              "1310  /content/drive/My Drive/modelnsc/1-s2.0-S23521...  original  401-3200   \n",
              "1311  /content/drive/My Drive/modelnsc/1-s2.0-S23521...  original  401-3200   \n",
              "1312  /content/drive/My Drive/modelnsc/1-s2.0-S23521...  original  401-3200   \n",
              "1313  /content/drive/My Drive/modelnsc/1-s2.0-S23521...  original  401-3200   \n",
              "1314  /content/drive/My Drive/modelnsc/1-s2.0-S23521...  original  401-3200   \n",
              "1315  /content/drive/My Drive/modelnsc/1-s2.0-S23521...  original  401-3200   \n",
              "1316  /content/drive/My Drive/modelnsc/1-s2.0-S23521...  original     0-400   \n",
              "1317  /content/drive/My Drive/modelnsc/1-s2.0-S23521...  original  401-3200   \n",
              "1318  /content/drive/My Drive/modelnsc/1-s2.0-S23521...  original  401-3200   \n",
              "1319  /content/drive/My Drive/modelnsc/1-s2.0-S09266...  original     0-400   \n",
              "1320  /content/drive/My Drive/modelnsc/1-s2.0-S09266...  original     0-400   \n",
              "1321  /content/drive/My Drive/modelnsc/1-s2.0-S09266...  original  401-3200   \n",
              "1322  /content/drive/My Drive/modelnsc/1-s2.0-S09266...  original  401-3200   \n",
              "1323  /content/drive/My Drive/modelnsc/1-s2.0-S09266...  original  401-3200   \n",
              "1324  /content/drive/My Drive/modelnsc/1-s2.0-S09266...  original     0-400   \n",
              "\n",
              "          BET  Size(mico)  \n",
              "1304  3073.00          10  \n",
              "1305  3041.00          10  \n",
              "1306  2755.00          10  \n",
              "1307  2448.00          10  \n",
              "1308   923.00          10  \n",
              "1309  1223.00          10  \n",
              "1310  1056.00          10  \n",
              "1311   856.00          10  \n",
              "1312  1263.00          10  \n",
              "1313  1230.00          10  \n",
              "1314  1006.00          10  \n",
              "1315  2822.00          10  \n",
              "1316    97.30          10  \n",
              "1317   744.20          10  \n",
              "1318   780.40          10  \n",
              "1319     0.25          10  \n",
              "1320    35.00          10  \n",
              "1321   583.00          10  \n",
              "1322   820.00          10  \n",
              "1323   589.00          10  \n",
              "1324   389.00          10  "
            ],
            "text/html": [
              "\n",
              "  <div id=\"df-c90d8215-08bf-4bb5-91e1-c81eb20d4893\">\n",
              "    <div class=\"colab-df-container\">\n",
              "      <div>\n",
              "<style scoped>\n",
              "    .dataframe tbody tr th:only-of-type {\n",
              "        vertical-align: middle;\n",
              "    }\n",
              "\n",
              "    .dataframe tbody tr th {\n",
              "        vertical-align: top;\n",
              "    }\n",
              "\n",
              "    .dataframe thead th {\n",
              "        text-align: right;\n",
              "    }\n",
              "</style>\n",
              "<table border=\"1\" class=\"dataframe\">\n",
              "  <thead>\n",
              "    <tr style=\"text-align: right;\">\n",
              "      <th></th>\n",
              "      <th>No</th>\n",
              "      <th>Name_file</th>\n",
              "      <th>Name_Paper</th>\n",
              "      <th>journal</th>\n",
              "      <th>path_Picture</th>\n",
              "      <th>detail</th>\n",
              "      <th>Class</th>\n",
              "      <th>BET</th>\n",
              "      <th>Size(mico)</th>\n",
              "    </tr>\n",
              "  </thead>\n",
              "  <tbody>\n",
              "    <tr>\n",
              "      <th>1304</th>\n",
              "      <td>1305</td>\n",
              "      <td>Good2</td>\n",
              "      <td>Effect of Ball Milling on the Electrochemical ...</td>\n",
              "      <td>Batteries</td>\n",
              "      <td>/content/drive/My Drive/modelnsc/Good2/2.png</td>\n",
              "      <td>original</td>\n",
              "      <td>401-3200</td>\n",
              "      <td>3073.00</td>\n",
              "      <td>10</td>\n",
              "    </tr>\n",
              "    <tr>\n",
              "      <th>1305</th>\n",
              "      <td>1306</td>\n",
              "      <td>Good2</td>\n",
              "      <td>Effect of Ball Milling on the Electrochemical ...</td>\n",
              "      <td>Batteries</td>\n",
              "      <td>/content/drive/My Drive/modelnsc/Good2/3.png</td>\n",
              "      <td>original</td>\n",
              "      <td>401-3200</td>\n",
              "      <td>3041.00</td>\n",
              "      <td>10</td>\n",
              "    </tr>\n",
              "    <tr>\n",
              "      <th>1306</th>\n",
              "      <td>1307</td>\n",
              "      <td>Good2</td>\n",
              "      <td>Effect of Ball Milling on the Electrochemical ...</td>\n",
              "      <td>Batteries</td>\n",
              "      <td>/content/drive/My Drive/modelnsc/Good2/4.png</td>\n",
              "      <td>original</td>\n",
              "      <td>401-3200</td>\n",
              "      <td>2755.00</td>\n",
              "      <td>10</td>\n",
              "    </tr>\n",
              "    <tr>\n",
              "      <th>1307</th>\n",
              "      <td>1308</td>\n",
              "      <td>Good2</td>\n",
              "      <td>Effect of Ball Milling on the Electrochemical ...</td>\n",
              "      <td>Batteries</td>\n",
              "      <td>/content/drive/My Drive/modelnsc/Good2/5.png</td>\n",
              "      <td>original</td>\n",
              "      <td>401-3200</td>\n",
              "      <td>2448.00</td>\n",
              "      <td>10</td>\n",
              "    </tr>\n",
              "    <tr>\n",
              "      <th>1308</th>\n",
              "      <td>1309</td>\n",
              "      <td>1-s2.0-S2352152X22008957-main</td>\n",
              "      <td>Activated carbons obtained by environmentally ...</td>\n",
              "      <td>Journal of Energy Storage</td>\n",
              "      <td>/content/drive/My Drive/modelnsc/1-s2.0-S23521...</td>\n",
              "      <td>original</td>\n",
              "      <td>401-3200</td>\n",
              "      <td>923.00</td>\n",
              "      <td>10</td>\n",
              "    </tr>\n",
              "    <tr>\n",
              "      <th>1309</th>\n",
              "      <td>1310</td>\n",
              "      <td>1-s2.0-S2352152X22008957-main</td>\n",
              "      <td>Activated carbons obtained by environmentally ...</td>\n",
              "      <td>Journal of Energy Storage</td>\n",
              "      <td>/content/drive/My Drive/modelnsc/1-s2.0-S23521...</td>\n",
              "      <td>original</td>\n",
              "      <td>401-3200</td>\n",
              "      <td>1223.00</td>\n",
              "      <td>10</td>\n",
              "    </tr>\n",
              "    <tr>\n",
              "      <th>1310</th>\n",
              "      <td>1311</td>\n",
              "      <td>1-s2.0-S2352152X22008957-main</td>\n",
              "      <td>Activated carbons obtained by environmentally ...</td>\n",
              "      <td>Journal of Energy Storage</td>\n",
              "      <td>/content/drive/My Drive/modelnsc/1-s2.0-S23521...</td>\n",
              "      <td>original</td>\n",
              "      <td>401-3200</td>\n",
              "      <td>1056.00</td>\n",
              "      <td>10</td>\n",
              "    </tr>\n",
              "    <tr>\n",
              "      <th>1311</th>\n",
              "      <td>1312</td>\n",
              "      <td>1-s2.0-S2352152X22008957-main</td>\n",
              "      <td>Activated carbons obtained by environmentally ...</td>\n",
              "      <td>Journal of Energy Storage</td>\n",
              "      <td>/content/drive/My Drive/modelnsc/1-s2.0-S23521...</td>\n",
              "      <td>original</td>\n",
              "      <td>401-3200</td>\n",
              "      <td>856.00</td>\n",
              "      <td>10</td>\n",
              "    </tr>\n",
              "    <tr>\n",
              "      <th>1312</th>\n",
              "      <td>1313</td>\n",
              "      <td>1-s2.0-S2352152X22008957-main</td>\n",
              "      <td>Activated carbons obtained by environmentally ...</td>\n",
              "      <td>Journal of Energy Storage</td>\n",
              "      <td>/content/drive/My Drive/modelnsc/1-s2.0-S23521...</td>\n",
              "      <td>original</td>\n",
              "      <td>401-3200</td>\n",
              "      <td>1263.00</td>\n",
              "      <td>10</td>\n",
              "    </tr>\n",
              "    <tr>\n",
              "      <th>1313</th>\n",
              "      <td>1314</td>\n",
              "      <td>1-s2.0-S2352152X22008957-main</td>\n",
              "      <td>Activated carbons obtained by environmentally ...</td>\n",
              "      <td>Journal of Energy Storage</td>\n",
              "      <td>/content/drive/My Drive/modelnsc/1-s2.0-S23521...</td>\n",
              "      <td>original</td>\n",
              "      <td>401-3200</td>\n",
              "      <td>1230.00</td>\n",
              "      <td>10</td>\n",
              "    </tr>\n",
              "    <tr>\n",
              "      <th>1314</th>\n",
              "      <td>1315</td>\n",
              "      <td>1-s2.0-S2352152X22008957-main</td>\n",
              "      <td>Activated carbons obtained by environmentally ...</td>\n",
              "      <td>Journal of Energy Storage</td>\n",
              "      <td>/content/drive/My Drive/modelnsc/1-s2.0-S23521...</td>\n",
              "      <td>original</td>\n",
              "      <td>401-3200</td>\n",
              "      <td>1006.00</td>\n",
              "      <td>10</td>\n",
              "    </tr>\n",
              "    <tr>\n",
              "      <th>1315</th>\n",
              "      <td>1316</td>\n",
              "      <td>1-s2.0-S2352152X22008957-main</td>\n",
              "      <td>Activated carbons obtained by environmentally ...</td>\n",
              "      <td>Journal of Energy Storage</td>\n",
              "      <td>/content/drive/My Drive/modelnsc/1-s2.0-S23521...</td>\n",
              "      <td>original</td>\n",
              "      <td>401-3200</td>\n",
              "      <td>2822.00</td>\n",
              "      <td>10</td>\n",
              "    </tr>\n",
              "    <tr>\n",
              "      <th>1316</th>\n",
              "      <td>1317</td>\n",
              "      <td>1-s2.0-S2352152X22008969-main</td>\n",
              "      <td>Three-dimensional high graphitic porous biomas...</td>\n",
              "      <td>Journal of Energy Storage</td>\n",
              "      <td>/content/drive/My Drive/modelnsc/1-s2.0-S23521...</td>\n",
              "      <td>original</td>\n",
              "      <td>0-400</td>\n",
              "      <td>97.30</td>\n",
              "      <td>10</td>\n",
              "    </tr>\n",
              "    <tr>\n",
              "      <th>1317</th>\n",
              "      <td>1318</td>\n",
              "      <td>1-s2.0-S2352152X22008969-main</td>\n",
              "      <td>Three-dimensional high graphitic porous biomas...</td>\n",
              "      <td>Journal of Energy Storage</td>\n",
              "      <td>/content/drive/My Drive/modelnsc/1-s2.0-S23521...</td>\n",
              "      <td>original</td>\n",
              "      <td>401-3200</td>\n",
              "      <td>744.20</td>\n",
              "      <td>10</td>\n",
              "    </tr>\n",
              "    <tr>\n",
              "      <th>1318</th>\n",
              "      <td>1319</td>\n",
              "      <td>1-s2.0-S2352152X22008969-main</td>\n",
              "      <td>Three-dimensional high graphitic porous biomas...</td>\n",
              "      <td>Journal of Energy Storage</td>\n",
              "      <td>/content/drive/My Drive/modelnsc/1-s2.0-S23521...</td>\n",
              "      <td>original</td>\n",
              "      <td>401-3200</td>\n",
              "      <td>780.40</td>\n",
              "      <td>10</td>\n",
              "    </tr>\n",
              "    <tr>\n",
              "      <th>1319</th>\n",
              "      <td>1320</td>\n",
              "      <td>1-s2.0-S0926669022000292-main</td>\n",
              "      <td>Low-cost activated carbon preparation from Cor...</td>\n",
              "      <td>Industrial Crops &amp; Products</td>\n",
              "      <td>/content/drive/My Drive/modelnsc/1-s2.0-S09266...</td>\n",
              "      <td>original</td>\n",
              "      <td>0-400</td>\n",
              "      <td>0.25</td>\n",
              "      <td>10</td>\n",
              "    </tr>\n",
              "    <tr>\n",
              "      <th>1320</th>\n",
              "      <td>1321</td>\n",
              "      <td>1-s2.0-S0926669022000292-main</td>\n",
              "      <td>Low-cost activated carbon preparation from Cor...</td>\n",
              "      <td>Industrial Crops &amp; Products</td>\n",
              "      <td>/content/drive/My Drive/modelnsc/1-s2.0-S09266...</td>\n",
              "      <td>original</td>\n",
              "      <td>0-400</td>\n",
              "      <td>35.00</td>\n",
              "      <td>10</td>\n",
              "    </tr>\n",
              "    <tr>\n",
              "      <th>1321</th>\n",
              "      <td>1322</td>\n",
              "      <td>1-s2.0-S0926669022000292-main</td>\n",
              "      <td>Low-cost activated carbon preparation from Cor...</td>\n",
              "      <td>Industrial Crops &amp; Products</td>\n",
              "      <td>/content/drive/My Drive/modelnsc/1-s2.0-S09266...</td>\n",
              "      <td>original</td>\n",
              "      <td>401-3200</td>\n",
              "      <td>583.00</td>\n",
              "      <td>10</td>\n",
              "    </tr>\n",
              "    <tr>\n",
              "      <th>1322</th>\n",
              "      <td>1323</td>\n",
              "      <td>1-s2.0-S0926669022000292-main</td>\n",
              "      <td>Low-cost activated carbon preparation from Cor...</td>\n",
              "      <td>Industrial Crops &amp; Products</td>\n",
              "      <td>/content/drive/My Drive/modelnsc/1-s2.0-S09266...</td>\n",
              "      <td>original</td>\n",
              "      <td>401-3200</td>\n",
              "      <td>820.00</td>\n",
              "      <td>10</td>\n",
              "    </tr>\n",
              "    <tr>\n",
              "      <th>1323</th>\n",
              "      <td>1324</td>\n",
              "      <td>1-s2.0-S0926669022000292-main</td>\n",
              "      <td>Low-cost activated carbon preparation from Cor...</td>\n",
              "      <td>Industrial Crops &amp; Products</td>\n",
              "      <td>/content/drive/My Drive/modelnsc/1-s2.0-S09266...</td>\n",
              "      <td>original</td>\n",
              "      <td>401-3200</td>\n",
              "      <td>589.00</td>\n",
              "      <td>10</td>\n",
              "    </tr>\n",
              "    <tr>\n",
              "      <th>1324</th>\n",
              "      <td>1325</td>\n",
              "      <td>1-s2.0-S0926669022000292-main</td>\n",
              "      <td>Low-cost activated carbon preparation from Cor...</td>\n",
              "      <td>Industrial Crops &amp; Products</td>\n",
              "      <td>/content/drive/My Drive/modelnsc/1-s2.0-S09266...</td>\n",
              "      <td>original</td>\n",
              "      <td>0-400</td>\n",
              "      <td>389.00</td>\n",
              "      <td>10</td>\n",
              "    </tr>\n",
              "  </tbody>\n",
              "</table>\n",
              "</div>\n",
              "      <button class=\"colab-df-convert\" onclick=\"convertToInteractive('df-c90d8215-08bf-4bb5-91e1-c81eb20d4893')\"\n",
              "              title=\"Convert this dataframe to an interactive table.\"\n",
              "              style=\"display:none;\">\n",
              "        \n",
              "  <svg xmlns=\"http://www.w3.org/2000/svg\" height=\"24px\"viewBox=\"0 0 24 24\"\n",
              "       width=\"24px\">\n",
              "    <path d=\"M0 0h24v24H0V0z\" fill=\"none\"/>\n",
              "    <path d=\"M18.56 5.44l.94 2.06.94-2.06 2.06-.94-2.06-.94-.94-2.06-.94 2.06-2.06.94zm-11 1L8.5 8.5l.94-2.06 2.06-.94-2.06-.94L8.5 2.5l-.94 2.06-2.06.94zm10 10l.94 2.06.94-2.06 2.06-.94-2.06-.94-.94-2.06-.94 2.06-2.06.94z\"/><path d=\"M17.41 7.96l-1.37-1.37c-.4-.4-.92-.59-1.43-.59-.52 0-1.04.2-1.43.59L10.3 9.45l-7.72 7.72c-.78.78-.78 2.05 0 2.83L4 21.41c.39.39.9.59 1.41.59.51 0 1.02-.2 1.41-.59l7.78-7.78 2.81-2.81c.8-.78.8-2.07 0-2.86zM5.41 20L4 18.59l7.72-7.72 1.47 1.35L5.41 20z\"/>\n",
              "  </svg>\n",
              "      </button>\n",
              "      \n",
              "  <style>\n",
              "    .colab-df-container {\n",
              "      display:flex;\n",
              "      flex-wrap:wrap;\n",
              "      gap: 12px;\n",
              "    }\n",
              "\n",
              "    .colab-df-convert {\n",
              "      background-color: #E8F0FE;\n",
              "      border: none;\n",
              "      border-radius: 50%;\n",
              "      cursor: pointer;\n",
              "      display: none;\n",
              "      fill: #1967D2;\n",
              "      height: 32px;\n",
              "      padding: 0 0 0 0;\n",
              "      width: 32px;\n",
              "    }\n",
              "\n",
              "    .colab-df-convert:hover {\n",
              "      background-color: #E2EBFA;\n",
              "      box-shadow: 0px 1px 2px rgba(60, 64, 67, 0.3), 0px 1px 3px 1px rgba(60, 64, 67, 0.15);\n",
              "      fill: #174EA6;\n",
              "    }\n",
              "\n",
              "    [theme=dark] .colab-df-convert {\n",
              "      background-color: #3B4455;\n",
              "      fill: #D2E3FC;\n",
              "    }\n",
              "\n",
              "    [theme=dark] .colab-df-convert:hover {\n",
              "      background-color: #434B5C;\n",
              "      box-shadow: 0px 1px 3px 1px rgba(0, 0, 0, 0.15);\n",
              "      filter: drop-shadow(0px 1px 2px rgba(0, 0, 0, 0.3));\n",
              "      fill: #FFFFFF;\n",
              "    }\n",
              "  </style>\n",
              "\n",
              "      <script>\n",
              "        const buttonEl =\n",
              "          document.querySelector('#df-c90d8215-08bf-4bb5-91e1-c81eb20d4893 button.colab-df-convert');\n",
              "        buttonEl.style.display =\n",
              "          google.colab.kernel.accessAllowed ? 'block' : 'none';\n",
              "\n",
              "        async function convertToInteractive(key) {\n",
              "          const element = document.querySelector('#df-c90d8215-08bf-4bb5-91e1-c81eb20d4893');\n",
              "          const dataTable =\n",
              "            await google.colab.kernel.invokeFunction('convertToInteractive',\n",
              "                                                     [key], {});\n",
              "          if (!dataTable) return;\n",
              "\n",
              "          const docLinkHtml = 'Like what you see? Visit the ' +\n",
              "            '<a target=\"_blank\" href=https://colab.research.google.com/notebooks/data_table.ipynb>data table notebook</a>'\n",
              "            + ' to learn more about interactive tables.';\n",
              "          element.innerHTML = '';\n",
              "          dataTable['output_type'] = 'display_data';\n",
              "          await google.colab.output.renderOutput(dataTable, element);\n",
              "          const docLink = document.createElement('div');\n",
              "          docLink.innerHTML = docLinkHtml;\n",
              "          element.appendChild(docLink);\n",
              "        }\n",
              "      </script>\n",
              "    </div>\n",
              "  </div>\n",
              "  "
            ]
          },
          "metadata": {},
          "execution_count": 8
        }
      ]
    },
    {
      "cell_type": "code",
      "source": [
        "\n",
        "act = test['Class'].tolist()\n",
        "path = test['path_Picture'].tolist()"
      ],
      "metadata": {
        "id": "dYSyXx3YsG44"
      },
      "execution_count": null,
      "outputs": []
    },
    {
      "cell_type": "code",
      "source": [
        "\n",
        "from tensorflow.keras.preprocessing import image\n",
        "\n",
        "def predict_image(img_path): #สร้างฟังก์ชัน \n",
        "    # Read the image and resize it\n",
        "    img = image.load_img(img_path, target_size=(height, width)) #รูปทุกรูปมีขนาดไม่เท่ากันจึงตั้งไว้ว่าเวลาจะให้ model ดึงรูปมาทำนายให้ดึงรูปเข้ามาตามขนาดที่ตั้งไว้ตาม พารามิตเตอร์\n",
        "    # Convert it to a Numpy array with target shape.\n",
        "    x = image.img_to_array(img) # model ไม่สามารถทำนายรูปภาพโดยตรงได้ จึงเเปลงรูปภาพให้เป็น array เเล้วให้โมเดลทำนาย\n",
        "    # Reshape\n",
        "    x = x.reshape((1,) + x.shape) # เพิ่ม ไดเมนชั่นของโมเดล ให้เป็น 4 ได้ เมนชั่น โดยที่ 1, คือบอกให้โมเดลนำเข้าทีละ 1 รูปเเล้วค่อยทำนาย เเละ + ไดเมนชั่น คือ 150 ,150 ,3(สีของ RGB)\n",
        "    x /= 255.\n",
        "    result = model.predict([x])\n",
        "    return result[0]"
      ],
      "metadata": {
        "id": "hOkweJgZsSMf"
      },
      "execution_count": null,
      "outputs": []
    },
    {
      "cell_type": "code",
      "source": [
        "import numpy as np"
      ],
      "metadata": {
        "id": "wkvUuIFQsSKc"
      },
      "execution_count": null,
      "outputs": []
    },
    {
      "cell_type": "code",
      "source": [
        "\n",
        "no = np.argmax(predict_image(path[0]))\n",
        "labels[no]"
      ],
      "metadata": {
        "colab": {
          "base_uri": "https://localhost:8080/",
          "height": 53
        },
        "id": "lo3NgINnsSH6",
        "outputId": "2603c667-8374-4524-eaec-94734df065e1"
      },
      "execution_count": null,
      "outputs": [
        {
          "output_type": "stream",
          "name": "stdout",
          "text": [
            "1/1 [==============================] - 2s 2s/step\n"
          ]
        },
        {
          "output_type": "execute_result",
          "data": {
            "text/plain": [
              "'0-400'"
            ],
            "application/vnd.google.colaboratory.intrinsic+json": {
              "type": "string"
            }
          },
          "metadata": {},
          "execution_count": 12
        }
      ]
    },
    {
      "cell_type": "code",
      "source": [
        "predict_image(path[1]) "
      ],
      "metadata": {
        "colab": {
          "base_uri": "https://localhost:8080/"
        },
        "id": "k-V4A5kYsUDA",
        "outputId": "a7d36e6a-ad60-4618-cdc4-77c65057d977"
      },
      "execution_count": null,
      "outputs": [
        {
          "output_type": "stream",
          "name": "stdout",
          "text": [
            "1/1 [==============================] - 0s 54ms/step\n"
          ]
        },
        {
          "output_type": "execute_result",
          "data": {
            "text/plain": [
              "array([0.5280486 , 0.47195145], dtype=float32)"
            ]
          },
          "metadata": {},
          "execution_count": 13
        }
      ]
    },
    {
      "cell_type": "code",
      "source": [
        "np.argmax(predict_image(path[1]))"
      ],
      "metadata": {
        "colab": {
          "base_uri": "https://localhost:8080/"
        },
        "id": "6IO4Zt-tsUAx",
        "outputId": "8175e901-e44e-4c31-c471-6aa2906c48d2"
      },
      "execution_count": null,
      "outputs": [
        {
          "output_type": "stream",
          "name": "stdout",
          "text": [
            "1/1 [==============================] - 0s 51ms/step\n"
          ]
        },
        {
          "output_type": "execute_result",
          "data": {
            "text/plain": [
              "0"
            ]
          },
          "metadata": {},
          "execution_count": 14
        }
      ]
    },
    {
      "cell_type": "code",
      "source": [
        "#Predict\n",
        "pred_list = list()\n",
        "prob_list = list()\n",
        "img_path= path\n",
        "for i in range(0,len(img_path)):\n",
        "    predict = predict_image(img_path[i])\n",
        "    result = np.argmax(predict)\n",
        "    pred_list.append(labels[result])\n",
        "    prob_list.append(predict[result])"
      ],
      "metadata": {
        "colab": {
          "base_uri": "https://localhost:8080/"
        },
        "id": "UJkUXQ56sT-r",
        "outputId": "7b654f66-2fa6-4714-efc6-05dabb76bbef"
      },
      "execution_count": null,
      "outputs": [
        {
          "output_type": "stream",
          "name": "stdout",
          "text": [
            "1/1 [==============================] - 0s 48ms/step\n",
            "1/1 [==============================] - 0s 53ms/step\n",
            "1/1 [==============================] - 0s 52ms/step\n",
            "1/1 [==============================] - 0s 52ms/step\n",
            "1/1 [==============================] - 0s 49ms/step\n",
            "1/1 [==============================] - 0s 70ms/step\n",
            "1/1 [==============================] - 0s 55ms/step\n",
            "1/1 [==============================] - 0s 48ms/step\n",
            "1/1 [==============================] - 0s 53ms/step\n",
            "1/1 [==============================] - 0s 53ms/step\n",
            "1/1 [==============================] - 0s 52ms/step\n",
            "1/1 [==============================] - 0s 55ms/step\n",
            "1/1 [==============================] - 0s 44ms/step\n",
            "1/1 [==============================] - 0s 47ms/step\n",
            "1/1 [==============================] - 0s 50ms/step\n",
            "1/1 [==============================] - 0s 53ms/step\n",
            "1/1 [==============================] - 0s 52ms/step\n",
            "1/1 [==============================] - 0s 66ms/step\n",
            "1/1 [==============================] - 0s 48ms/step\n",
            "1/1 [==============================] - 0s 55ms/step\n",
            "1/1 [==============================] - 0s 47ms/step\n"
          ]
        }
      ]
    },
    {
      "cell_type": "code",
      "source": [
        "result"
      ],
      "metadata": {
        "colab": {
          "base_uri": "https://localhost:8080/"
        },
        "id": "iUBtVp6GsT8p",
        "outputId": "9fd21817-3a71-4ef6-cc84-5683cf42bc55"
      },
      "execution_count": null,
      "outputs": [
        {
          "output_type": "execute_result",
          "data": {
            "text/plain": [
              "1"
            ]
          },
          "metadata": {},
          "execution_count": 16
        }
      ]
    },
    {
      "cell_type": "code",
      "source": [
        "prob_list[0]"
      ],
      "metadata": {
        "colab": {
          "base_uri": "https://localhost:8080/"
        },
        "id": "mWL4nCZysT4p",
        "outputId": "2e17b5c2-8b3f-4985-cac4-fb85fc47c919"
      },
      "execution_count": null,
      "outputs": [
        {
          "output_type": "execute_result",
          "data": {
            "text/plain": [
              "0.61939764"
            ]
          },
          "metadata": {},
          "execution_count": 17
        }
      ]
    },
    {
      "cell_type": "code",
      "source": [
        "pred_list[0]"
      ],
      "metadata": {
        "colab": {
          "base_uri": "https://localhost:8080/",
          "height": 36
        },
        "id": "qSqjfiIhsYgP",
        "outputId": "ba07dbaa-8c99-43f5-9255-27089e4989d0"
      },
      "execution_count": null,
      "outputs": [
        {
          "output_type": "execute_result",
          "data": {
            "text/plain": [
              "'0-400'"
            ],
            "application/vnd.google.colaboratory.intrinsic+json": {
              "type": "string"
            }
          },
          "metadata": {},
          "execution_count": 18
        }
      ]
    },
    {
      "cell_type": "code",
      "source": [
        "pred = np.array(pred_list)\n",
        "act = np.array(act)"
      ],
      "metadata": {
        "id": "7nbLPwhrsZM0"
      },
      "execution_count": null,
      "outputs": []
    },
    {
      "cell_type": "code",
      "source": [
        "act"
      ],
      "metadata": {
        "colab": {
          "base_uri": "https://localhost:8080/"
        },
        "id": "WQ4KOJKxsZKN",
        "outputId": "c59123c7-d59c-4bc8-dd42-46e1a52dfa9f"
      },
      "execution_count": null,
      "outputs": [
        {
          "output_type": "execute_result",
          "data": {
            "text/plain": [
              "array(['401-3200', '401-3200', '401-3200', '401-3200', '401-3200',\n",
              "       '401-3200', '401-3200', '401-3200', '401-3200', '401-3200',\n",
              "       '401-3200', '401-3200', '0-400', '401-3200', '401-3200', '0-400',\n",
              "       '0-400', '401-3200', '401-3200', '401-3200', '0-400'], dtype='<U8')"
            ]
          },
          "metadata": {},
          "execution_count": 20
        }
      ]
    },
    {
      "cell_type": "code",
      "source": [
        "pred"
      ],
      "metadata": {
        "colab": {
          "base_uri": "https://localhost:8080/"
        },
        "id": "DYioP7tqsbip",
        "outputId": "3a53839d-2d2d-4984-b2c1-6e1ab6a690be"
      },
      "execution_count": null,
      "outputs": [
        {
          "output_type": "execute_result",
          "data": {
            "text/plain": [
              "array(['0-400', '0-400', '401-3200', '401-3200', '0-400', '401-3200',\n",
              "       '401-3200', '401-3200', '401-3200', '401-3200', '401-3200',\n",
              "       '401-3200', '401-3200', '401-3200', '401-3200', '401-3200',\n",
              "       '401-3200', '401-3200', '401-3200', '0-400', '401-3200'],\n",
              "      dtype='<U8')"
            ]
          },
          "metadata": {},
          "execution_count": 21
        }
      ]
    },
    {
      "cell_type": "code",
      "source": [
        "import numpy as np\n",
        "from sklearn.metrics import confusion_matrix\n",
        "\n",
        "# act = data_train['class'].array\n",
        "# pred = data_train['category_ov'].array\n",
        "\n",
        "cmat = confusion_matrix(act, pred)\n",
        "print('classifier accuracy = {}%'.format((100.*np.trace(cmat))/(np.sum(cmat))))\n",
        "\n",
        "#Marking the Confusion Matrix\n",
        "from sklearn.metrics import classification_report,confusion_matrix\n",
        "print(classification_report(act, pred))#performance"
      ],
      "metadata": {
        "colab": {
          "base_uri": "https://localhost:8080/"
        },
        "id": "GShtBTB5sdnY",
        "outputId": "6b1a3a8e-2172-4bed-9584-3fca93bfdd2c"
      },
      "execution_count": null,
      "outputs": [
        {
          "output_type": "stream",
          "name": "stdout",
          "text": [
            "classifier accuracy = 61.904761904761905%\n",
            "              precision    recall  f1-score   support\n",
            "\n",
            "       0-400       0.00      0.00      0.00         4\n",
            "    401-3200       0.76      0.76      0.76        17\n",
            "\n",
            "    accuracy                           0.62        21\n",
            "   macro avg       0.38      0.38      0.38        21\n",
            "weighted avg       0.62      0.62      0.62        21\n",
            "\n"
          ]
        }
      ]
    },
    {
      "cell_type": "code",
      "source": [
        "#create CF \n",
        "data = {'Actual': act,'Predicted' : pred,}\n",
        "df = pd.DataFrame(data, columns=['Actual','Predicted'])\n",
        "conf_mat = pd.crosstab(df['Actual'],df['Predicted'],rownames=['Actual'],colnames=['Predicted'])\n",
        "\n",
        "#Confusion matrix\n",
        "from sklearn.metrics import confusion_matrix\n",
        "import matplotlib.pyplot as plt\n",
        "cm = confusion_matrix(act, pred)\n",
        "\n",
        "#plot Confusion matrix\n",
        "import seaborn as sns\n",
        "sns.set()\n",
        "fig, ax = plt.subplots(figsize=(8, 5))\n",
        "\n",
        "ax = sns.heatmap(conf_mat, annot=True, fmt=\"d\", cmap=\"YlGnBu\") #Blues,Oranges,Reds\n",
        "ax.set_title('Confusion matrix',fontsize=20)\n",
        "ax.set_ylabel('True label',fontsize=18)\n",
        "ax.set_xlabel('Predicted label',fontsize=18)"
      ],
      "metadata": {
        "colab": {
          "base_uri": "https://localhost:8080/",
          "height": 527
        },
        "id": "upIAmF50sdkw",
        "outputId": "e5462763-9916-4b6f-c440-b1b414d2e6ce"
      },
      "execution_count": null,
      "outputs": [
        {
          "output_type": "execute_result",
          "data": {
            "text/plain": [
              "Text(0.5, 21.249999999999993, 'Predicted label')"
            ]
          },
          "metadata": {},
          "execution_count": 23
        },
        {
          "output_type": "display_data",
          "data": {
            "text/plain": [
              "<Figure size 800x500 with 2 Axes>"
            ],
            "image/png": "[encoded data removed]"
          },
          "metadata": {}
        }
      ]
    },
    {
      "cell_type": "code",
      "source": [],
      "metadata": {
        "id": "pZSNLVovsdiK"
      },
      "execution_count": null,
      "outputs": []
    }
  ]
}